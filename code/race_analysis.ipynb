{
  "nbformat": 4,
  "nbformat_minor": 0,
  "metadata": {
    "colab": {
      "name": "race-analysis.ipynb",
      "version": "0.3.2",
      "provenance": [],
      "collapsed_sections": []
    },
    "kernelspec": {
      "name": "python2",
      "display_name": "Python 2"
    }
  },
  "cells": [
    {
      "metadata": {
        "id": "Y2ucOLJQ3Fbd",
        "colab_type": "text"
      },
      "cell_type": "markdown",
      "source": [
        "## Análise Resultados Corrida"
      ]
    },
    {
      "metadata": {
        "id": "iHg29tET6G_8",
        "colab_type": "text"
      },
      "cell_type": "markdown",
      "source": [
        "1.   Importação dos resultados\n",
        "2.   Limpeza dos dados\n",
        "3.   Média Swim, Bike, Run por categoria\n",
        "4.   Melhores Splits Swim, Bike, Run por categoria\n",
        "5.   Quantidade de Atleats por aCtegoria\n",
        "6.   Percentual de Sub10 geral\n",
        "7.   Percentual de Sub10 por categoria amadora"
      ]
    },
    {
      "metadata": {
        "id": "7LR_Quco7oS8",
        "colab_type": "code",
        "colab": {}
      },
      "cell_type": "code",
      "source": [
        "import numpy as np\n",
        "import pandas as pd\n",
        "\n",
        "missing_values = ['--:--:--']\n",
        "resultados = pd.read_csv('http://doricardo.com/results/2018-uruguay70.3-full.csv', na_values = missing_values, encoding = 'cp1252')\n",
        "target = '05'\n",
        "continent = pd.read_csv('http://doricardo.com/dataframe/country-and-continent.csv')\n",
        "colors = ['#ff9999','#66b3ff','#99ff99','#ffcc99']"
      ],
      "execution_count": 0,
      "outputs": []
    },
    {
      "metadata": {
        "id": "_JHLpxh0b6Ho",
        "colab_type": "code",
        "colab": {}
      },
      "cell_type": "code",
      "source": [
        "def limpar_titulo(dataframe):\n",
        "    dataframe.drop(['Pos'])   \n",
        "    \n",
        "def recuperar_media(df, categoria, sexo, atividade):\n",
        "    tempos = pd.to_datetime(df[(df.Categ == categoria) & (df.Sexo == sexo) & (df[atividade].notnull())][atividade], format= '%H:%M:%S').astype(int).mean()\n",
        "    media = pd.to_datetime(tempos, format= '%Y-%m-%d %H:%M:%S')\n",
        "    return pd.to_datetime(media, format= '%Y-%m-%d %H:%M:%S')"
      ],
      "execution_count": 0,
      "outputs": []
    },
    {
      "metadata": {
        "id": "9wiegZA3gCdv",
        "colab_type": "code",
        "colab": {}
      },
      "cell_type": "code",
      "source": [
        "# Limpar nome Colunas duplicadas\n",
        "resultados = resultados[resultados.Pos != 'Pos']\n",
        "\n",
        "# Incluir nome Colunas\n",
        "resultados.columns = ['Bib', 'Pos', 'Nome', 'Pais', 'Categ', 'Pos Categ', 'Swim', 'Bike', 'Run', 'Total', 'Status', 'Sexo']"
      ],
      "execution_count": 0,
      "outputs": []
    },
    {
      "metadata": {
        "id": "krve_ftDt366",
        "colab_type": "code",
        "colab": {}
      },
      "cell_type": "code",
      "source": [
        "resultados['Finished'] = resultados['Status']"
      ],
      "execution_count": 0,
      "outputs": []
    },
    {
      "metadata": {
        "id": "2AOmZbamwTO4",
        "colab_type": "code",
        "colab": {}
      },
      "cell_type": "code",
      "source": [
        "resultados.loc[resultados.Status != 'Finish', 'Finished'] = 'No'\n",
        "resultados.loc[resultados.Status == 'Finish', 'Finished'] = 'Yes'"
      ],
      "execution_count": 0,
      "outputs": []
    },
    {
      "metadata": {
        "id": "MN4LeynvrUam",
        "colab_type": "code",
        "colab": {}
      },
      "cell_type": "code",
      "source": [
        "finished = resultados[resultados.Status == 'Finish']\n",
        "unfinished = resultados[resultados.Status != 'Finish']"
      ],
      "execution_count": 0,
      "outputs": []
    },
    {
      "metadata": {
        "id": "GwK6DJewYyW7",
        "colab_type": "code",
        "colab": {
          "base_uri": "https://localhost:8080/"
        },
        "outputId": "0938b6cc-558d-4f08-c295-fc37dd00e2e2"
      },
      "cell_type": "code",
      "source": [
        "finished.Swim.fillna(pd.to_datetime(pd.to_datetime(finished['Swim'],format= '%H:%M:%S').astype(int).median(), format= '%Y-%m-%d %H:%M:%S').strftime('%H:%M:%S'), inplace=True)"
      ],
      "execution_count": 7,
      "outputs": [
        {
          "output_type": "stream",
          "text": [
            "/usr/local/lib/python2.7/dist-packages/pandas/core/generic.py:4355: SettingWithCopyWarning: \n",
            "A value is trying to be set on a copy of a slice from a DataFrame\n",
            "\n",
            "See the caveats in the documentation: http://pandas.pydata.org/pandas-docs/stable/indexing.html#indexing-view-versus-copy\n",
            "  self._update_inplace(new_data)\n"
          ],
          "name": "stderr"
        }
      ]
    },
    {
      "metadata": {
        "id": "_MPPeq1HmKm3",
        "colab_type": "code",
        "colab": {}
      },
      "cell_type": "code",
      "source": [
        "finished.Bike.fillna(pd.to_datetime(pd.to_datetime(finished['Bike'],format= '%H:%M:%S').astype(int).median(), format= '%Y-%m-%d %H:%M:%S').strftime('%H:%M:%S'), inplace=True)"
      ],
      "execution_count": 0,
      "outputs": []
    },
    {
      "metadata": {
        "id": "RldNVSxBmOdF",
        "colab_type": "code",
        "colab": {}
      },
      "cell_type": "code",
      "source": [
        "finished.Run.fillna(pd.to_datetime(pd.to_datetime(finished['Run'],format= '%H:%M:%S').astype(int).median(), format= '%Y-%m-%d %H:%M:%S').strftime('%H:%M:%S'), inplace=True)"
      ],
      "execution_count": 0,
      "outputs": []
    },
    {
      "metadata": {
        "id": "5m4kjkw4xZCe",
        "colab_type": "code",
        "colab": {}
      },
      "cell_type": "code",
      "source": [
        "# Percentual de atletas que Concluiram a prova\n",
        "resultados.groupby(['Finished']).Pos.count().plot.pie(title='', colors=colors, shadow=True, startangle=90, autopct='%1.0f%%').axis('equal');"
      ],
      "execution_count": 0,
      "outputs": []
    },
    {
      "metadata": {
        "id": "QPmcqJkNiplC",
        "colab_type": "code",
        "colab": {}
      },
      "cell_type": "code",
      "source": [
        "# Distribuição dos motivos de não conlusão da prova\n",
        "unfinished.groupby(['Status']).Pos.count().plot.pie(title='', colors=colors, shadow=True, startangle=90, autopct='%1.0f%%').axis('equal');"
      ],
      "execution_count": 0,
      "outputs": []
    },
    {
      "metadata": {
        "id": "B7LRjkQ06kbh",
        "colab_type": "code",
        "colab": {}
      },
      "cell_type": "code",
      "source": [
        "hist = finished.groupby(['Categ','Sexo']).Bib.count().unstack().plot.barh(rot = 0, title='Categorias por Genero Ironamn 2018', color=colors)\n",
        "hist.set_ylabel('')\n",
        "hist.set_xlabel('Quantidade');"
      ],
      "execution_count": 0,
      "outputs": []
    },
    {
      "metadata": {
        "id": "AeML8Ytnm57u",
        "colab_type": "code",
        "colab": {}
      },
      "cell_type": "code",
      "source": [
        "finished['hora'] = np.where(finished.Total.str.slice(0, 2) < target, 'Abaixo' + target, 'Acima' + target)"
      ],
      "execution_count": 0,
      "outputs": []
    },
    {
      "metadata": {
        "id": "nnNZpElqJKXW",
        "colab_type": "code",
        "colab": {}
      },
      "cell_type": "code",
      "source": [
        "finished.groupby(['hora']).Pos.count().plot.pie(title='', colors=colors, shadow=True, startangle=90, explode=[0.1, 0], autopct='%1.0f%%').axis('equal');"
      ],
      "execution_count": 0,
      "outputs": []
    },
    {
      "metadata": {
        "id": "39DoGJDundJa",
        "colab_type": "text"
      },
      "cell_type": "markdown",
      "source": [
        "##Converter Colunas"
      ]
    },
    {
      "metadata": {
        "id": "MM5nHcJTnajc",
        "colab_type": "code",
        "colab": {}
      },
      "cell_type": "code",
      "source": [
        "resultados['Swim'] = pd.to_datetime(resultados['Swim'],format= '%H:%M:%S')\n",
        "resultados['Bike'] = pd.to_datetime(resultados['Bike'],format= '%H:%M:%S')\n",
        "resultados['Run'] = pd.to_datetime(resultados['Run'],format= '%H:%M:%S')\n",
        "resultados['Total'] = pd.to_datetime(resultados['Total'],format= '%H:%M:%S')"
      ],
      "execution_count": 0,
      "outputs": []
    },
    {
      "metadata": {
        "id": "Ca6XIt2pYcLu",
        "colab_type": "code",
        "colab": {}
      },
      "cell_type": "code",
      "source": [
        "resultados['nSwim'] = pd.to_datetime(resultados['Swim'],format= '%H:%M:%S').astype(int)\n",
        "resultados['nBike'] = pd.to_datetime(resultados['Bike'],format= '%H:%M:%S').astype(int)\n",
        "resultados['nRun'] = pd.to_datetime(resultados['Run'],format= '%H:%M:%S').astype(int)\n",
        "resultados['nTotal'] = pd.to_datetime(resultados['Total'],format= '%H:%M:%S').astype(int)"
      ],
      "execution_count": 0,
      "outputs": []
    },
    {
      "metadata": {
        "id": "cskMcPQPEOyX",
        "colab_type": "text"
      },
      "cell_type": "markdown",
      "source": [
        "##Estatisticas Colunas"
      ]
    },
    {
      "metadata": {
        "id": "tUWJjTg4RgAl",
        "colab_type": "code",
        "colab": {}
      },
      "cell_type": "code",
      "source": [
        "media = resultados.groupby(['Categ']).mean()"
      ],
      "execution_count": 0,
      "outputs": []
    },
    {
      "metadata": {
        "id": "V4fUcLZ5roPZ",
        "colab_type": "code",
        "colab": {}
      },
      "cell_type": "code",
      "source": [
        "media['Total'] = pd.to_datetime(media['nTotal'], format= '%Y-%m-%d %H:%M:%S')\n",
        "media['Swim'] = pd.to_datetime(media['nSwim'], format= '%Y-%m-%d %H:%M:%S')\n",
        "media['Bike'] = pd.to_datetime(media['nBike'], format= '%Y-%m-%d %H:%M:%S')\n",
        "media['Run'] = pd.to_datetime(media['nRun'], format= '%Y-%m-%d %H:%M:%S')"
      ],
      "execution_count": 0,
      "outputs": []
    },
    {
      "metadata": {
        "id": "1cuXth4jFdYe",
        "colab_type": "code",
        "colab": {}
      },
      "cell_type": "code",
      "source": [
        "media"
      ],
      "execution_count": 0,
      "outputs": []
    },
    {
      "metadata": {
        "id": "PJeiOpwhZ8q7",
        "colab_type": "code",
        "colab": {}
      },
      "cell_type": "code",
      "source": [
        "mais_rapidos = finished.groupby(['Categ','Sexo']).min()"
      ],
      "execution_count": 0,
      "outputs": []
    },
    {
      "metadata": {
        "id": "Dnb-F7P882_N",
        "colab_type": "code",
        "colab": {}
      },
      "cell_type": "code",
      "source": [
        "mais_rapidos"
      ],
      "execution_count": 0,
      "outputs": []
    },
    {
      "metadata": {
        "id": "n-fufMr2aJ-W",
        "colab_type": "code",
        "colab": {}
      },
      "cell_type": "code",
      "source": [
        "#mais_rapidos['Total'] = pd.to_datetime(mais_rapidos['nTotal'], format= '%Y-%m-%d %H:%M:%S')\n",
        "#mais_rapidos['Swim'] = pd.to_datetime(mais_rapidos['nSwim'], format= '%Y-%m-%d %H:%M:%S')\n",
        "#mais_rapidos['Bike'] = pd.to_datetime(mais_rapidos['nBike'], format= '%Y-%m-%d %H:%M:%S')\n",
        "#mais_rapidos['Run'] = pd.to_datetime(mais_rapidos['nRun'], format= '%Y-%m-%d %H:%M:%S')"
      ],
      "execution_count": 0,
      "outputs": []
    },
    {
      "metadata": {
        "id": "KVmQJzfSaSC5",
        "colab_type": "code",
        "colab": {}
      },
      "cell_type": "code",
      "source": [
        "mais_rapidos[['Swim','Bike','Run','Total','Nome']]"
      ],
      "execution_count": 0,
      "outputs": []
    },
    {
      "metadata": {
        "id": "H5YsQPU88xxw",
        "colab_type": "code",
        "colab": {}
      },
      "cell_type": "code",
      "source": [
        "#categorias_excluidas = ['C','PRO']\n",
        "#categorias = resultados[~resultados.isin(categorias_excluidas)] \n",
        "categorias = resultados\n",
        "hist = categorias['Categ'].value_counts().sort_index(ascending=True).plot.bar(rot=0, title=\"Quantidade Atletas por Categoria\", figsize=(10,6) )\n",
        "\n",
        "rects = hist.patches\n",
        "\n",
        "# Make labels\n",
        "labels = [ i for i in categorias['Categ'].value_counts().sort_index(ascending=True) ]\n",
        "\n",
        "for rect, label in zip(rects, labels):\n",
        "    height = rect.get_height()\n",
        "    hist.text(rect.get_x() + rect.get_width() / 2, height, label, ha='center', va='bottom')\n",
        "\n",
        "hist.patch.set_facecolor('#FFFFFF')"
      ],
      "execution_count": 0,
      "outputs": []
    },
    {
      "metadata": {
        "id": "xe5ejfCDi_t2",
        "colab_type": "code",
        "colab": {}
      },
      "cell_type": "code",
      "source": [
        "resultados.loc[resultados['Total'] < pd.to_datetime(target + ':00:00', format= '%H:%M:%S'), 'Abaixo' + target] = 'Abaixo ' + target + ' horas' \n",
        "resultados.loc[resultados['Total'] >= pd.to_datetime(target + ':00:00', format= '%H:%M:%S'), 'Abaixo' + target] = 'Acima ' + target + ' horas' "
      ],
      "execution_count": 0,
      "outputs": []
    },
    {
      "metadata": {
        "id": "gaS14msW33ZK",
        "colab_type": "code",
        "colab": {}
      },
      "cell_type": "code",
      "source": [
        "resultados['Abaixo' + target].value_counts().plot.pie(title='', explode=[0.1, 0], autopct='%1.0f%%');"
      ],
      "execution_count": 0,
      "outputs": []
    }
  ]
}