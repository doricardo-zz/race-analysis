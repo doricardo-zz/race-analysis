{
  "nbformat": 4,
  "nbformat_minor": 0,
  "metadata": {
    "colab": {
      "name": "race-analysis-alagoas-2017-2019.ipynb",
      "version": "0.3.2",
      "provenance": [],
      "collapsed_sections": [],
      "toc_visible": true,
      "include_colab_link": true
    },
    "kernelspec": {
      "name": "python2",
      "display_name": "Python 2"
    },
    "accelerator": "GPU"
  },
  "cells": [
    {
      "cell_type": "markdown",
      "metadata": {
        "id": "view-in-github",
        "colab_type": "text"
      },
      "source": [
        "<a href=\"https://colab.research.google.com/github/doricardo/analyse-race/blob/master/race_analysis_alagoas_2017_2019.ipynb\" target=\"_parent\"><img src=\"https://colab.research.google.com/assets/colab-badge.svg\" alt=\"Open In Colab\"/></a>"
      ]
    },
    {
      "cell_type": "markdown",
      "metadata": {
        "id": "Y2ucOLJQ3Fbd",
        "colab_type": "text"
      },
      "source": [
        "## Análise Resultados Corrida"
      ]
    },
    {
      "cell_type": "markdown",
      "metadata": {
        "id": "iHg29tET6G_8",
        "colab_type": "text"
      },
      "source": [
        "1.   Importação dos resultados\n",
        "2.   Limpeza dos dados\n",
        "3.   Média Swim, Bike, Run por categoria\n",
        "4.   Melhores Splits Swim, Bike, Run por categoria\n",
        "5.   Quantidade de Atleats por Categoria\n",
        "6.   Percentual de Sub10 geral\n",
        "7.   Percentual de Sub10 por categoria amadora"
      ]
    },
    {
      "cell_type": "code",
      "metadata": {
        "id": "7LR_Quco7oS8",
        "colab_type": "code",
        "colab": {}
      },
      "source": [
        "import numpy as np\n",
        "import pandas as pd\n",
        "\n",
        "missing_values = ['--:--:--']\n",
        "df_2017 = pd.read_csv('http://doricardo.com/resultados/ResultadosCompletos/2017-alagoas70.3-all-athletes.csv', na_values = missing_values, encoding = 'cp1252')\n",
        "df_2018 = pd.read_csv('http://doricardo.com/resultados/ResultadosCompletos/2018-alagoas70.3-all-athletes.csv', na_values = missing_values, encoding = 'cp1252')\n",
        "df_2019 = pd.read_csv('http://doricardo.com/resultados/ResultadosCompletos/2019-alagoas70.3-all-athletes.csv', na_values = missing_values, encoding = 'cp1252')\n",
        "target = '05'\n",
        "#continent = pd.read_csv('http://doricardo.com/dataframe/country-and-continent.csv')\n",
        "colors = ['#ff9999','#66b3ff','#99ff99','#ffcc99']"
      ],
      "execution_count": 0,
      "outputs": []
    },
    {
      "cell_type": "code",
      "metadata": {
        "id": "_JHLpxh0b6Ho",
        "colab_type": "code",
        "colab": {}
      },
      "source": [
        "def limpar_titulo(dataframe):\n",
        "    dataframe.drop(['Pos'])   \n",
        "    \n",
        "def recuperar_media(df, categoria, sexo, atividade):\n",
        "    tempos = pd.to_datetime(df[(df.Categ == categoria) & (df.Sexo == sexo) & (df[atividade].notnull())][atividade], format= '%H:%M:%S').astype(int).mean()\n",
        "    media = pd.to_datetime(tempos, format= '%Y-%m-%d %H:%M:%S')\n",
        "    return pd.to_datetime(media, format= '%Y-%m-%d %H:%M:%S')\n",
        "  \n",
        "def graficos_barra(dataframe, coluna1, coluna2, direcao):\n",
        "\n",
        "  if direcao == 'h':\n",
        "    hist1 = resultados.groupby([coluna1,coluna2]).Bib.count().sort_index(ascending=True).unstack().plot.barh(rot=0, colors=colors, title='\"Ironman Alagoas - 3 anos')\n",
        "  else:\n",
        "    hist1 = resultados.groupby([coluna1,coluna2]).Bib.count().sort_index(ascending=True).unstack().plot.bar(rot=0, colors=colors, title='\"Ironman Alagoas - 3 anos')\n",
        "  \n",
        "  rects = hist1.patches\n",
        "\n",
        "  # Make labels\n",
        "  labels = [ i for i in resultados.groupby([coluna2,coluna1]).Bib.count().sort_index(ascending=True) ]\n",
        "\n",
        "  for rect, label in zip(rects, labels):\n",
        "      height = rect.get_height()\n",
        "      hist1.text(rect.get_x() + rect.get_width() / 2, height, label, ha='center', va='bottom')\n",
        "\n",
        "  hist1.patch.set_facecolor('#FFFFFF');"
      ],
      "execution_count": 0,
      "outputs": []
    },
    {
      "cell_type": "code",
      "metadata": {
        "id": "iAbJgeZY7y6j",
        "colab_type": "code",
        "colab": {}
      },
      "source": [
        "df_2017['Ano'] = '2017'\n",
        "df_2018['Ano'] = '2018'\n",
        "df_2019['Ano'] = '2019'"
      ],
      "execution_count": 0,
      "outputs": []
    },
    {
      "cell_type": "code",
      "metadata": {
        "id": "dCAEa6OrBeBO",
        "colab_type": "code",
        "colab": {}
      },
      "source": [
        "df_2017 = df_2017.drop_duplicates()\n",
        "df_2018 = df_2018.drop_duplicates()\n",
        "df_2019 = df_2019.drop_duplicates()"
      ],
      "execution_count": 0,
      "outputs": []
    },
    {
      "cell_type": "code",
      "metadata": {
        "id": "e2Uv-EC58JAr",
        "colab_type": "code",
        "colab": {}
      },
      "source": [
        "#resultados = pd.concat([df_2017, df_2018, df_2019], sort=False)\n",
        "resultados = df_2017"
      ],
      "execution_count": 0,
      "outputs": []
    },
    {
      "cell_type": "code",
      "metadata": {
        "id": "-CPhIxdD8Wkc",
        "colab_type": "code",
        "outputId": "5bb6f9c7-6e06-4719-ee7b-3a2d012bcf3e",
        "colab": {
          "base_uri": "https://localhost:8080/",
          "height": 197
        }
      },
      "source": [
        "resultados.head()"
      ],
      "execution_count": 128,
      "outputs": [
        {
          "output_type": "execute_result",
          "data": {
            "text/html": [
              "<div>\n",
              "<style scoped>\n",
              "    .dataframe tbody tr th:only-of-type {\n",
              "        vertical-align: middle;\n",
              "    }\n",
              "\n",
              "    .dataframe tbody tr th {\n",
              "        vertical-align: top;\n",
              "    }\n",
              "\n",
              "    .dataframe thead th {\n",
              "        text-align: right;\n",
              "    }\n",
              "</style>\n",
              "<table border=\"1\" class=\"dataframe\">\n",
              "  <thead>\n",
              "    <tr style=\"text-align: right;\">\n",
              "      <th></th>\n",
              "      <th>Bib</th>\n",
              "      <th>Pos</th>\n",
              "      <th>Nome</th>\n",
              "      <th>Pais</th>\n",
              "      <th>Categ</th>\n",
              "      <th>Pos Categ</th>\n",
              "      <th>Swim</th>\n",
              "      <th>Bike</th>\n",
              "      <th>Run</th>\n",
              "      <th>Total</th>\n",
              "      <th>Status</th>\n",
              "      <th>Sexo</th>\n",
              "      <th>Ano</th>\n",
              "    </tr>\n",
              "  </thead>\n",
              "  <tbody>\n",
              "    <tr>\n",
              "      <th>0</th>\n",
              "      <td>25</td>\n",
              "      <td>79</td>\n",
              "      <td>PAULA PONTE MOREIRA</td>\n",
              "      <td>BRA</td>\n",
              "      <td>18-24</td>\n",
              "      <td>1</td>\n",
              "      <td>00:29:55</td>\n",
              "      <td>02:23:46</td>\n",
              "      <td>01:42:58</td>\n",
              "      <td>04:40:40</td>\n",
              "      <td>Finish</td>\n",
              "      <td>F</td>\n",
              "      <td>2017</td>\n",
              "    </tr>\n",
              "    <tr>\n",
              "      <th>1</th>\n",
              "      <td>23</td>\n",
              "      <td>556</td>\n",
              "      <td>JESSICA MORAL</td>\n",
              "      <td>BRA</td>\n",
              "      <td>18-24</td>\n",
              "      <td>2</td>\n",
              "      <td>00:38:41</td>\n",
              "      <td>02:59:03</td>\n",
              "      <td>02:02:33</td>\n",
              "      <td>05:46:07</td>\n",
              "      <td>Finish</td>\n",
              "      <td>F</td>\n",
              "      <td>2017</td>\n",
              "    </tr>\n",
              "    <tr>\n",
              "      <th>2</th>\n",
              "      <td>22</td>\n",
              "      <td>782</td>\n",
              "      <td>YASMIN EVANGELISTA</td>\n",
              "      <td>BRA</td>\n",
              "      <td>18-24</td>\n",
              "      <td>3</td>\n",
              "      <td>00:47:08</td>\n",
              "      <td>03:34:13</td>\n",
              "      <td>02:21:08</td>\n",
              "      <td>06:51:46</td>\n",
              "      <td>Finish</td>\n",
              "      <td>F</td>\n",
              "      <td>2017</td>\n",
              "    </tr>\n",
              "    <tr>\n",
              "      <th>3</th>\n",
              "      <td>24</td>\n",
              "      <td>804</td>\n",
              "      <td>THAIS  LOPES HENRIQUES</td>\n",
              "      <td>BRA</td>\n",
              "      <td>18-24</td>\n",
              "      <td>4</td>\n",
              "      <td>00:46:06</td>\n",
              "      <td>03:32:44</td>\n",
              "      <td>02:35:01</td>\n",
              "      <td>07:03:40</td>\n",
              "      <td>Finish</td>\n",
              "      <td>F</td>\n",
              "      <td>2017</td>\n",
              "    </tr>\n",
              "    <tr>\n",
              "      <th>4</th>\n",
              "      <td>Bib</td>\n",
              "      <td>Pos</td>\n",
              "      <td>Nome</td>\n",
              "      <td>Pais</td>\n",
              "      <td>Categ</td>\n",
              "      <td>Pos Categ</td>\n",
              "      <td>Swim</td>\n",
              "      <td>Bike</td>\n",
              "      <td>Run</td>\n",
              "      <td>Total</td>\n",
              "      <td>Status</td>\n",
              "      <td>Sexo</td>\n",
              "      <td>2017</td>\n",
              "    </tr>\n",
              "  </tbody>\n",
              "</table>\n",
              "</div>"
            ],
            "text/plain": [
              "   Bib  Pos                    Nome  Pais  ...     Total  Status  Sexo   Ano\n",
              "0   25   79     PAULA PONTE MOREIRA   BRA  ...  04:40:40  Finish     F  2017\n",
              "1   23  556           JESSICA MORAL   BRA  ...  05:46:07  Finish     F  2017\n",
              "2   22  782      YASMIN EVANGELISTA   BRA  ...  06:51:46  Finish     F  2017\n",
              "3   24  804  THAIS  LOPES HENRIQUES   BRA  ...  07:03:40  Finish     F  2017\n",
              "4  Bib  Pos                    Nome  Pais  ...     Total  Status  Sexo  2017\n",
              "\n",
              "[5 rows x 13 columns]"
            ]
          },
          "metadata": {
            "tags": []
          },
          "execution_count": 128
        }
      ]
    },
    {
      "cell_type": "code",
      "metadata": {
        "id": "9wiegZA3gCdv",
        "colab_type": "code",
        "colab": {}
      },
      "source": [
        "# Limpar nome Colunas duplicadas\n",
        "resultados = resultados[resultados.Pos != 'Pos']\n",
        "\n",
        "# Incluir nome Colunas\n",
        "resultados.columns = ['Bib', 'Pos', 'Nome', 'Pais', 'Categ', 'PosCateg', 'Swim', 'Bike', 'Run', 'Total', 'Status', 'Sexo', 'Ano']"
      ],
      "execution_count": 0,
      "outputs": []
    },
    {
      "cell_type": "code",
      "metadata": {
        "id": "krve_ftDt366",
        "colab_type": "code",
        "colab": {
          "base_uri": "https://localhost:8080/",
          "height": 123
        },
        "outputId": "2200e6c2-589c-4000-8bfe-bed59e7d084a"
      },
      "source": [
        "resultados['Finished'] = resultados['Status']"
      ],
      "execution_count": 130,
      "outputs": [
        {
          "output_type": "stream",
          "text": [
            "/usr/local/lib/python2.7/dist-packages/ipykernel_launcher.py:1: SettingWithCopyWarning: \n",
            "A value is trying to be set on a copy of a slice from a DataFrame.\n",
            "Try using .loc[row_indexer,col_indexer] = value instead\n",
            "\n",
            "See the caveats in the documentation: http://pandas.pydata.org/pandas-docs/stable/indexing.html#indexing-view-versus-copy\n",
            "  \"\"\"Entry point for launching an IPython kernel.\n"
          ],
          "name": "stderr"
        }
      ]
    },
    {
      "cell_type": "code",
      "metadata": {
        "id": "2AOmZbamwTO4",
        "colab_type": "code",
        "colab": {
          "base_uri": "https://localhost:8080/",
          "height": 194
        },
        "outputId": "9ff53302-15e0-48b7-dc65-88ebaef910c1"
      },
      "source": [
        "resultados.loc[resultados.Status != 'Finish', 'Finished'] = 'No'\n",
        "resultados.loc[resultados.Status == 'Finish', 'Finished'] = 'Yes'"
      ],
      "execution_count": 131,
      "outputs": [
        {
          "output_type": "stream",
          "text": [
            "/usr/local/lib/python2.7/dist-packages/ipykernel_launcher.py:1: SettingWithCopyWarning: \n",
            "A value is trying to be set on a copy of a slice from a DataFrame\n",
            "\n",
            "See the caveats in the documentation: http://pandas.pydata.org/pandas-docs/stable/indexing.html#indexing-view-versus-copy\n",
            "  \"\"\"Entry point for launching an IPython kernel.\n",
            "/usr/local/lib/python2.7/dist-packages/ipykernel_launcher.py:2: SettingWithCopyWarning: \n",
            "A value is trying to be set on a copy of a slice from a DataFrame\n",
            "\n",
            "See the caveats in the documentation: http://pandas.pydata.org/pandas-docs/stable/indexing.html#indexing-view-versus-copy\n",
            "  \n"
          ],
          "name": "stderr"
        }
      ]
    },
    {
      "cell_type": "code",
      "metadata": {
        "id": "MN4LeynvrUam",
        "colab_type": "code",
        "colab": {}
      },
      "source": [
        "finished = resultados[resultados.Status == 'Finish']\n",
        "unfinished = resultados[resultados.Status != 'Finish']"
      ],
      "execution_count": 0,
      "outputs": []
    },
    {
      "cell_type": "code",
      "metadata": {
        "id": "GwK6DJewYyW7",
        "colab_type": "code",
        "colab": {}
      },
      "source": [
        "finished.Swim.fillna(pd.to_datetime(pd.to_datetime(finished['Swim'],format= '%H:%M:%S').astype(int).median(), format= '%Y-%m-%d %H:%M:%S').strftime('%H:%M:%S'), inplace=True)"
      ],
      "execution_count": 0,
      "outputs": []
    },
    {
      "cell_type": "code",
      "metadata": {
        "id": "_MPPeq1HmKm3",
        "colab_type": "code",
        "colab": {}
      },
      "source": [
        "finished.Bike.fillna(pd.to_datetime(pd.to_datetime(finished['Bike'],format= '%H:%M:%S').astype(int).median(), format= '%Y-%m-%d %H:%M:%S').strftime('%H:%M:%S'), inplace=True)"
      ],
      "execution_count": 0,
      "outputs": []
    },
    {
      "cell_type": "code",
      "metadata": {
        "id": "RldNVSxBmOdF",
        "colab_type": "code",
        "colab": {}
      },
      "source": [
        "finished.Run.fillna(pd.to_datetime(pd.to_datetime(finished['Run'],format= '%H:%M:%S').astype(int).median(), format= '%Y-%m-%d %H:%M:%S').strftime('%H:%M:%S'), inplace=True)"
      ],
      "execution_count": 0,
      "outputs": []
    },
    {
      "cell_type": "code",
      "metadata": {
        "id": "pxxNlpzwgTYo",
        "colab_type": "code",
        "outputId": "bb4184d0-9714-438f-b80b-c1bf72a9939c",
        "colab": {
          "base_uri": "https://localhost:8080/",
          "height": 197
        }
      },
      "source": [
        "finished.loc[finished.Total < '05:00:00'].head()"
      ],
      "execution_count": 136,
      "outputs": [
        {
          "output_type": "execute_result",
          "data": {
            "text/html": [
              "<div>\n",
              "<style scoped>\n",
              "    .dataframe tbody tr th:only-of-type {\n",
              "        vertical-align: middle;\n",
              "    }\n",
              "\n",
              "    .dataframe tbody tr th {\n",
              "        vertical-align: top;\n",
              "    }\n",
              "\n",
              "    .dataframe thead th {\n",
              "        text-align: right;\n",
              "    }\n",
              "</style>\n",
              "<table border=\"1\" class=\"dataframe\">\n",
              "  <thead>\n",
              "    <tr style=\"text-align: right;\">\n",
              "      <th></th>\n",
              "      <th>Bib</th>\n",
              "      <th>Pos</th>\n",
              "      <th>Nome</th>\n",
              "      <th>Pais</th>\n",
              "      <th>Categ</th>\n",
              "      <th>PosCateg</th>\n",
              "      <th>Swim</th>\n",
              "      <th>Bike</th>\n",
              "      <th>Run</th>\n",
              "      <th>Total</th>\n",
              "      <th>Status</th>\n",
              "      <th>Sexo</th>\n",
              "      <th>Ano</th>\n",
              "      <th>Finished</th>\n",
              "    </tr>\n",
              "  </thead>\n",
              "  <tbody>\n",
              "    <tr>\n",
              "      <th>0</th>\n",
              "      <td>25</td>\n",
              "      <td>79</td>\n",
              "      <td>PAULA PONTE MOREIRA</td>\n",
              "      <td>BRA</td>\n",
              "      <td>18-24</td>\n",
              "      <td>1</td>\n",
              "      <td>00:29:55</td>\n",
              "      <td>02:23:46</td>\n",
              "      <td>01:42:58</td>\n",
              "      <td>04:40:40</td>\n",
              "      <td>Finish</td>\n",
              "      <td>F</td>\n",
              "      <td>2017</td>\n",
              "      <td>Yes</td>\n",
              "    </tr>\n",
              "    <tr>\n",
              "      <th>5</th>\n",
              "      <td>20</td>\n",
              "      <td>5</td>\n",
              "      <td>RAFAEL MARGUERITO CORAZZA</td>\n",
              "      <td>BRA</td>\n",
              "      <td>18-24</td>\n",
              "      <td>1</td>\n",
              "      <td>00:28:00</td>\n",
              "      <td>02:19:43</td>\n",
              "      <td>01:23:05</td>\n",
              "      <td>04:13:55</td>\n",
              "      <td>Finish</td>\n",
              "      <td>M</td>\n",
              "      <td>2017</td>\n",
              "      <td>Yes</td>\n",
              "    </tr>\n",
              "    <tr>\n",
              "      <th>6</th>\n",
              "      <td>12</td>\n",
              "      <td>105</td>\n",
              "      <td>VICTOR BOLONHA</td>\n",
              "      <td>BRA</td>\n",
              "      <td>18-24</td>\n",
              "      <td>2</td>\n",
              "      <td>00:33:04</td>\n",
              "      <td>02:21:05</td>\n",
              "      <td>01:47:49</td>\n",
              "      <td>04:45:59</td>\n",
              "      <td>Finish</td>\n",
              "      <td>M</td>\n",
              "      <td>2017</td>\n",
              "      <td>Yes</td>\n",
              "    </tr>\n",
              "    <tr>\n",
              "      <th>7</th>\n",
              "      <td>15</td>\n",
              "      <td>124</td>\n",
              "      <td>AUGUSTO GOMES</td>\n",
              "      <td>BRA</td>\n",
              "      <td>18-24</td>\n",
              "      <td>3</td>\n",
              "      <td>00:31:08</td>\n",
              "      <td>02:26:17</td>\n",
              "      <td>01:46:00</td>\n",
              "      <td>04:48:22</td>\n",
              "      <td>Finish</td>\n",
              "      <td>M</td>\n",
              "      <td>2017</td>\n",
              "      <td>Yes</td>\n",
              "    </tr>\n",
              "    <tr>\n",
              "      <th>8</th>\n",
              "      <td>14</td>\n",
              "      <td>149</td>\n",
              "      <td>DAVI  FROTA</td>\n",
              "      <td>BRA</td>\n",
              "      <td>18-24</td>\n",
              "      <td>4</td>\n",
              "      <td>00:32:23</td>\n",
              "      <td>02:32:50</td>\n",
              "      <td>01:41:44</td>\n",
              "      <td>04:52:07</td>\n",
              "      <td>Finish</td>\n",
              "      <td>M</td>\n",
              "      <td>2017</td>\n",
              "      <td>Yes</td>\n",
              "    </tr>\n",
              "  </tbody>\n",
              "</table>\n",
              "</div>"
            ],
            "text/plain": [
              "  Bib  Pos                       Nome Pais  ...  Status Sexo   Ano Finished\n",
              "0  25   79        PAULA PONTE MOREIRA  BRA  ...  Finish    F  2017      Yes\n",
              "5  20    5  RAFAEL MARGUERITO CORAZZA  BRA  ...  Finish    M  2017      Yes\n",
              "6  12  105             VICTOR BOLONHA  BRA  ...  Finish    M  2017      Yes\n",
              "7  15  124              AUGUSTO GOMES  BRA  ...  Finish    M  2017      Yes\n",
              "8  14  149                DAVI  FROTA  BRA  ...  Finish    M  2017      Yes\n",
              "\n",
              "[5 rows x 14 columns]"
            ]
          },
          "metadata": {
            "tags": []
          },
          "execution_count": 136
        }
      ]
    },
    {
      "cell_type": "code",
      "metadata": {
        "id": "0rmF3-BbCvIJ",
        "colab_type": "code",
        "colab": {
          "base_uri": "https://localhost:8080/",
          "height": 123
        },
        "outputId": "1193c0ac-566e-4659-f2fd-c1a982d17fc6"
      },
      "source": [
        "resultados['Bib'] = resultados['Bib'].astype(int)"
      ],
      "execution_count": 137,
      "outputs": [
        {
          "output_type": "stream",
          "text": [
            "/usr/local/lib/python2.7/dist-packages/ipykernel_launcher.py:1: SettingWithCopyWarning: \n",
            "A value is trying to be set on a copy of a slice from a DataFrame.\n",
            "Try using .loc[row_indexer,col_indexer] = value instead\n",
            "\n",
            "See the caveats in the documentation: http://pandas.pydata.org/pandas-docs/stable/indexing.html#indexing-view-versus-copy\n",
            "  \"\"\"Entry point for launching an IPython kernel.\n"
          ],
          "name": "stderr"
        }
      ]
    },
    {
      "cell_type": "code",
      "metadata": {
        "id": "1uRV2F14IXOC",
        "colab_type": "code",
        "outputId": "46bec77d-4698-4d5e-a83a-e935a826dc0c",
        "colab": {
          "base_uri": "https://localhost:8080/",
          "height": 281
        }
      },
      "source": [
        "hist = resultados['Ano'].value_counts().sort_index(ascending=True).plot.bar(rot=0, colors=colors, title=\"Ironman Alagoas - 3 anos\" )\n",
        "\n",
        "rects = hist.patches\n",
        "\n",
        "# Make labels\n",
        "labels = [ i for i in resultados['Ano'].value_counts().sort_index(ascending=True) ]\n",
        "\n",
        "for rect, label in zip(rects, labels):\n",
        "    height = rect.get_height()\n",
        "    hist.text(rect.get_x() + rect.get_width() / 2, height, label, ha='center', va='bottom')\n",
        "\n",
        "hist.patch.set_facecolor('#FFFFFF');"
      ],
      "execution_count": 138,
      "outputs": [
        {
          "output_type": "display_data",
          "data": {
            "image/png": "[encoded data removed]",
            "text/plain": [
              "<Figure size 432x288 with 1 Axes>"
            ]
          },
          "metadata": {
            "tags": []
          }
        }
      ]
    },
    {
      "cell_type": "code",
      "metadata": {
        "id": "-PZ5bThUM875",
        "colab_type": "code",
        "outputId": "7e10292a-6f6f-42b6-c2be-d2657000d971",
        "colab": {
          "base_uri": "https://localhost:8080/",
          "height": 294
        }
      },
      "source": [
        "graficos_barra(resultados, 'Ano', 'Finished', 'v')"
      ],
      "execution_count": 139,
      "outputs": [
        {
          "output_type": "display_data",
          "data": {
            "image/png": "[encoded data removed]",
            "text/plain": [
              "<Figure size 432x288 with 1 Axes>"
            ]
          },
          "metadata": {
            "tags": []
          }
        }
      ]
    },
    {
      "cell_type": "code",
      "metadata": {
        "id": "xXHzJ_L_aMoN",
        "colab_type": "code",
        "outputId": "cc3dd740-5196-44a3-ef74-7beca072a2f1",
        "colab": {
          "base_uri": "https://localhost:8080/",
          "height": 294
        }
      },
      "source": [
        "graficos_barra(resultados, 'Ano', 'Sexo', 'v')"
      ],
      "execution_count": 140,
      "outputs": [
        {
          "output_type": "display_data",
          "data": {
            "image/png": "[encoded data removed]",
            "text/plain": [
              "<Figure size 432x288 with 1 Axes>"
            ]
          },
          "metadata": {
            "tags": []
          }
        }
      ]
    },
    {
      "cell_type": "code",
      "metadata": {
        "id": "I1YVjGmcXdE8",
        "colab_type": "code",
        "outputId": "590e3d6e-c67e-421d-fa81-394cda512206",
        "colab": {
          "base_uri": "https://localhost:8080/",
          "height": 294
        }
      },
      "source": [
        "graficos_barra(resultados, 'Ano', 'Status', 'v')"
      ],
      "execution_count": 141,
      "outputs": [
        {
          "output_type": "display_data",
          "data": {
            "image/png": "[encoded data removed]",
            "text/plain": [
              "<Figure size 432x288 with 1 Axes>"
            ]
          },
          "metadata": {
            "tags": []
          }
        }
      ]
    },
    {
      "cell_type": "code",
      "metadata": {
        "id": "YOP_M6wtPXC7",
        "colab_type": "code",
        "outputId": "33a6192a-36b8-4b3b-a8f2-bb9627c0aac0",
        "colab": {
          "base_uri": "https://localhost:8080/",
          "height": 87
        }
      },
      "source": [
        "resultados.groupby(['Ano', 'Finished']).Bib.count().sort_index(ascending=True)"
      ],
      "execution_count": 142,
      "outputs": [
        {
          "output_type": "execute_result",
          "data": {
            "text/plain": [
              "Ano   Finished\n",
              "2017  No           285\n",
              "      Yes         2078\n",
              "Name: Bib, dtype: int64"
            ]
          },
          "metadata": {
            "tags": []
          },
          "execution_count": 142
        }
      ]
    },
    {
      "cell_type": "code",
      "metadata": {
        "id": "5m4kjkw4xZCe",
        "colab_type": "code",
        "outputId": "7823bdb7-80c9-4e94-b970-688acb6e3331",
        "colab": {
          "base_uri": "https://localhost:8080/",
          "height": 254
        }
      },
      "source": [
        "# Percentual de atletas que Concluiram a prova\n",
        "resultados.groupby(['Finished']).Pos.count().plot.pie(title='', colors=colors, shadow=False, explode=[0.1, 0], startangle=90, autopct='%1.0f%%').axis('equal');"
      ],
      "execution_count": 143,
      "outputs": [
        {
          "output_type": "display_data",
          "data": {
            "image/png": "[encoded data removed]",
            "text/plain": [
              "<Figure size 432x288 with 1 Axes>"
            ]
          },
          "metadata": {
            "tags": []
          }
        }
      ]
    },
    {
      "cell_type": "code",
      "metadata": {
        "id": "QPmcqJkNiplC",
        "colab_type": "code",
        "colab": {}
      },
      "source": [
        "# Distribuição dos motivos de não conlusão da prova\n",
        "#unfinished.groupby(['Status']).Pos.count().plot.pie(title='', colors=colors, shadow=True, explode=[0, 0.1], startangle=90, autopct='%1.0f%%').axis('equal');"
      ],
      "execution_count": 0,
      "outputs": []
    },
    {
      "cell_type": "code",
      "metadata": {
        "id": "B7LRjkQ06kbh",
        "colab_type": "code",
        "outputId": "7c0a0bcf-9492-460b-c552-910bc1e80de1",
        "colab": {
          "base_uri": "https://localhost:8080/",
          "height": 294
        }
      },
      "source": [
        "hist = finished.groupby(['Categ','Sexo']).Pos.count().unstack().plot.barh(rot = 0, title='Categorias por Genero Ironamn 2018', color=colors)\n",
        "hist.set_ylabel('')\n",
        "hist.set_xlabel('Quantidade');"
      ],
      "execution_count": 145,
      "outputs": [
        {
          "output_type": "display_data",
          "data": {
            "image/png": "[encoded data removed]",
            "text/plain": [
              "<Figure size 432x288 with 1 Axes>"
            ]
          },
          "metadata": {
            "tags": []
          }
        }
      ]
    },
    {
      "cell_type": "code",
      "metadata": {
        "id": "AeML8Ytnm57u",
        "colab_type": "code",
        "outputId": "a8eb760c-027e-4535-f30c-a011e8c6d7a0",
        "colab": {
          "base_uri": "https://localhost:8080/",
          "height": 123
        }
      },
      "source": [
        "finished['hora'] = np.where(finished.Total.str.slice(0, 2) < target, 'Abaixo' + target, 'Acima' + target)"
      ],
      "execution_count": 146,
      "outputs": [
        {
          "output_type": "stream",
          "text": [
            "/usr/local/lib/python2.7/dist-packages/ipykernel_launcher.py:1: SettingWithCopyWarning: \n",
            "A value is trying to be set on a copy of a slice from a DataFrame.\n",
            "Try using .loc[row_indexer,col_indexer] = value instead\n",
            "\n",
            "See the caveats in the documentation: http://pandas.pydata.org/pandas-docs/stable/indexing.html#indexing-view-versus-copy\n",
            "  \"\"\"Entry point for launching an IPython kernel.\n"
          ],
          "name": "stderr"
        }
      ]
    },
    {
      "cell_type": "code",
      "metadata": {
        "id": "nnNZpElqJKXW",
        "colab_type": "code",
        "colab": {}
      },
      "source": [
        "#finished.groupby(['hora']).Pos.count().plot.pie(title='', colors=colors, shadow=False, startangle=90, explode=[0.1, 0], autopct='%1.0f%%').axis('equal');"
      ],
      "execution_count": 0,
      "outputs": []
    },
    {
      "cell_type": "markdown",
      "metadata": {
        "id": "39DoGJDundJa",
        "colab_type": "text"
      },
      "source": [
        "##Converter Colunas"
      ]
    },
    {
      "cell_type": "code",
      "metadata": {
        "id": "MM5nHcJTnajc",
        "colab_type": "code",
        "colab": {
          "base_uri": "https://localhost:8080/",
          "height": 443
        },
        "outputId": "99f7c4e1-e9f0-413a-fd13-f98c72fc845c"
      },
      "source": [
        "resultados['Swim'] = pd.to_datetime(resultados['Swim'],format= '%H:%M:%S')\n",
        "resultados['Bike'] = pd.to_datetime(resultados['Bike'],format= '%H:%M:%S')\n",
        "resultados['Run'] = pd.to_datetime(resultados['Run'],format= '%H:%M:%S')\n",
        "resultados['Total'] = pd.to_datetime(resultados['Total'],format= '%H:%M:%S')"
      ],
      "execution_count": 148,
      "outputs": [
        {
          "output_type": "stream",
          "text": [
            "/usr/local/lib/python2.7/dist-packages/ipykernel_launcher.py:1: SettingWithCopyWarning: \n",
            "A value is trying to be set on a copy of a slice from a DataFrame.\n",
            "Try using .loc[row_indexer,col_indexer] = value instead\n",
            "\n",
            "See the caveats in the documentation: http://pandas.pydata.org/pandas-docs/stable/indexing.html#indexing-view-versus-copy\n",
            "  \"\"\"Entry point for launching an IPython kernel.\n",
            "/usr/local/lib/python2.7/dist-packages/ipykernel_launcher.py:2: SettingWithCopyWarning: \n",
            "A value is trying to be set on a copy of a slice from a DataFrame.\n",
            "Try using .loc[row_indexer,col_indexer] = value instead\n",
            "\n",
            "See the caveats in the documentation: http://pandas.pydata.org/pandas-docs/stable/indexing.html#indexing-view-versus-copy\n",
            "  \n",
            "/usr/local/lib/python2.7/dist-packages/ipykernel_launcher.py:3: SettingWithCopyWarning: \n",
            "A value is trying to be set on a copy of a slice from a DataFrame.\n",
            "Try using .loc[row_indexer,col_indexer] = value instead\n",
            "\n",
            "See the caveats in the documentation: http://pandas.pydata.org/pandas-docs/stable/indexing.html#indexing-view-versus-copy\n",
            "  This is separate from the ipykernel package so we can avoid doing imports until\n",
            "/usr/local/lib/python2.7/dist-packages/ipykernel_launcher.py:4: SettingWithCopyWarning: \n",
            "A value is trying to be set on a copy of a slice from a DataFrame.\n",
            "Try using .loc[row_indexer,col_indexer] = value instead\n",
            "\n",
            "See the caveats in the documentation: http://pandas.pydata.org/pandas-docs/stable/indexing.html#indexing-view-versus-copy\n",
            "  after removing the cwd from sys.path.\n"
          ],
          "name": "stderr"
        }
      ]
    },
    {
      "cell_type": "code",
      "metadata": {
        "id": "Ca6XIt2pYcLu",
        "colab_type": "code",
        "colab": {
          "base_uri": "https://localhost:8080/",
          "height": 443
        },
        "outputId": "b277733e-71f3-4717-a6b4-11e3a0652756"
      },
      "source": [
        "resultados['nSwim'] = pd.to_datetime(resultados['Swim'],format= '%H:%M:%S').astype(int)\n",
        "resultados['nBike'] = pd.to_datetime(resultados['Bike'],format= '%H:%M:%S').astype(int)\n",
        "resultados['nRun'] = pd.to_datetime(resultados['Run'],format= '%H:%M:%S').astype(int)\n",
        "resultados['nTotal'] = pd.to_datetime(resultados['Total'],format= '%H:%M:%S').astype(int)"
      ],
      "execution_count": 149,
      "outputs": [
        {
          "output_type": "stream",
          "text": [
            "/usr/local/lib/python2.7/dist-packages/ipykernel_launcher.py:1: SettingWithCopyWarning: \n",
            "A value is trying to be set on a copy of a slice from a DataFrame.\n",
            "Try using .loc[row_indexer,col_indexer] = value instead\n",
            "\n",
            "See the caveats in the documentation: http://pandas.pydata.org/pandas-docs/stable/indexing.html#indexing-view-versus-copy\n",
            "  \"\"\"Entry point for launching an IPython kernel.\n",
            "/usr/local/lib/python2.7/dist-packages/ipykernel_launcher.py:2: SettingWithCopyWarning: \n",
            "A value is trying to be set on a copy of a slice from a DataFrame.\n",
            "Try using .loc[row_indexer,col_indexer] = value instead\n",
            "\n",
            "See the caveats in the documentation: http://pandas.pydata.org/pandas-docs/stable/indexing.html#indexing-view-versus-copy\n",
            "  \n",
            "/usr/local/lib/python2.7/dist-packages/ipykernel_launcher.py:3: SettingWithCopyWarning: \n",
            "A value is trying to be set on a copy of a slice from a DataFrame.\n",
            "Try using .loc[row_indexer,col_indexer] = value instead\n",
            "\n",
            "See the caveats in the documentation: http://pandas.pydata.org/pandas-docs/stable/indexing.html#indexing-view-versus-copy\n",
            "  This is separate from the ipykernel package so we can avoid doing imports until\n",
            "/usr/local/lib/python2.7/dist-packages/ipykernel_launcher.py:4: SettingWithCopyWarning: \n",
            "A value is trying to be set on a copy of a slice from a DataFrame.\n",
            "Try using .loc[row_indexer,col_indexer] = value instead\n",
            "\n",
            "See the caveats in the documentation: http://pandas.pydata.org/pandas-docs/stable/indexing.html#indexing-view-versus-copy\n",
            "  after removing the cwd from sys.path.\n"
          ],
          "name": "stderr"
        }
      ]
    },
    {
      "cell_type": "markdown",
      "metadata": {
        "id": "cskMcPQPEOyX",
        "colab_type": "text"
      },
      "source": [
        "##Estatisticas Colunas"
      ]
    },
    {
      "cell_type": "code",
      "metadata": {
        "id": "tUWJjTg4RgAl",
        "colab_type": "code",
        "colab": {}
      },
      "source": [
        "media = resultados.groupby(['Categ','Sexo']).mean()"
      ],
      "execution_count": 0,
      "outputs": []
    },
    {
      "cell_type": "code",
      "metadata": {
        "id": "V4fUcLZ5roPZ",
        "colab_type": "code",
        "colab": {
          "base_uri": "https://localhost:8080/",
          "height": 345
        },
        "outputId": "75195b90-747f-4bea-e4a4-3cca68d014fd"
      },
      "source": [
        "media['Total'] = pd.to_datetime(media['nTotal'], format= '%Y-%m-%d %H:%M:%S').strftime('%H:%M:%S')\n",
        "media['Swim'] = pd.to_datetime(media['nSwim'], format= '%Y-%m-%d %H:%M:%S').strftime('%H:%M:%S')\n",
        "media['Bike'] = pd.to_datetime(media['nBike'], format= '%Y-%m-%d %H:%M:%S').strftime('%H:%M:%S')\n",
        "media['Run'] = pd.to_datetime(media['nRun'], format= '%Y-%m-%d %H:%M:%S').strftime('%H:%M:%S')"
      ],
      "execution_count": 168,
      "outputs": [
        {
          "output_type": "error",
          "ename": "AttributeError",
          "evalue": "ignored",
          "traceback": [
            "\u001b[0;31m\u001b[0m",
            "\u001b[0;31mAttributeError\u001b[0mTraceback (most recent call last)",
            "\u001b[0;32m<ipython-input-168-dce68c86e351>\u001b[0m in \u001b[0;36m<module>\u001b[0;34m()\u001b[0m\n\u001b[0;32m----> 1\u001b[0;31m \u001b[0mmedia\u001b[0m\u001b[0;34m[\u001b[0m\u001b[0;34m'Total'\u001b[0m\u001b[0;34m]\u001b[0m \u001b[0;34m=\u001b[0m \u001b[0mpd\u001b[0m\u001b[0;34m.\u001b[0m\u001b[0mto_datetime\u001b[0m\u001b[0;34m(\u001b[0m\u001b[0mmedia\u001b[0m\u001b[0;34m[\u001b[0m\u001b[0;34m'nTotal'\u001b[0m\u001b[0;34m]\u001b[0m\u001b[0;34m,\u001b[0m \u001b[0mformat\u001b[0m\u001b[0;34m=\u001b[0m \u001b[0;34m'%Y-%m-%d %H:%M:%S'\u001b[0m\u001b[0;34m)\u001b[0m\u001b[0;34m.\u001b[0m\u001b[0mstrftime\u001b[0m\u001b[0;34m(\u001b[0m\u001b[0;34m'%H:%M:%S'\u001b[0m\u001b[0;34m)\u001b[0m\u001b[0;34m\u001b[0m\u001b[0;34m\u001b[0m\u001b[0m\n\u001b[0m\u001b[1;32m      2\u001b[0m \u001b[0mmedia\u001b[0m\u001b[0;34m[\u001b[0m\u001b[0;34m'Swim'\u001b[0m\u001b[0;34m]\u001b[0m \u001b[0;34m=\u001b[0m \u001b[0mpd\u001b[0m\u001b[0;34m.\u001b[0m\u001b[0mto_datetime\u001b[0m\u001b[0;34m(\u001b[0m\u001b[0mmedia\u001b[0m\u001b[0;34m[\u001b[0m\u001b[0;34m'nSwim'\u001b[0m\u001b[0;34m]\u001b[0m\u001b[0;34m,\u001b[0m \u001b[0mformat\u001b[0m\u001b[0;34m=\u001b[0m \u001b[0;34m'%Y-%m-%d %H:%M:%S'\u001b[0m\u001b[0;34m)\u001b[0m\u001b[0;34m.\u001b[0m\u001b[0mstrftime\u001b[0m\u001b[0;34m(\u001b[0m\u001b[0;34m'%H:%M:%S'\u001b[0m\u001b[0;34m)\u001b[0m\u001b[0;34m\u001b[0m\u001b[0;34m\u001b[0m\u001b[0m\n\u001b[1;32m      3\u001b[0m \u001b[0mmedia\u001b[0m\u001b[0;34m[\u001b[0m\u001b[0;34m'Bike'\u001b[0m\u001b[0;34m]\u001b[0m \u001b[0;34m=\u001b[0m \u001b[0mpd\u001b[0m\u001b[0;34m.\u001b[0m\u001b[0mto_datetime\u001b[0m\u001b[0;34m(\u001b[0m\u001b[0mmedia\u001b[0m\u001b[0;34m[\u001b[0m\u001b[0;34m'nBike'\u001b[0m\u001b[0;34m]\u001b[0m\u001b[0;34m,\u001b[0m \u001b[0mformat\u001b[0m\u001b[0;34m=\u001b[0m \u001b[0;34m'%Y-%m-%d %H:%M:%S'\u001b[0m\u001b[0;34m)\u001b[0m\u001b[0;34m.\u001b[0m\u001b[0mstrftime\u001b[0m\u001b[0;34m(\u001b[0m\u001b[0;34m'%H:%M:%S'\u001b[0m\u001b[0;34m)\u001b[0m\u001b[0;34m\u001b[0m\u001b[0;34m\u001b[0m\u001b[0m\n\u001b[1;32m      4\u001b[0m \u001b[0mmedia\u001b[0m\u001b[0;34m[\u001b[0m\u001b[0;34m'Run'\u001b[0m\u001b[0;34m]\u001b[0m \u001b[0;34m=\u001b[0m \u001b[0mpd\u001b[0m\u001b[0;34m.\u001b[0m\u001b[0mto_datetime\u001b[0m\u001b[0;34m(\u001b[0m\u001b[0mmedia\u001b[0m\u001b[0;34m[\u001b[0m\u001b[0;34m'nRun'\u001b[0m\u001b[0;34m]\u001b[0m\u001b[0;34m,\u001b[0m \u001b[0mformat\u001b[0m\u001b[0;34m=\u001b[0m \u001b[0;34m'%Y-%m-%d %H:%M:%S'\u001b[0m\u001b[0;34m)\u001b[0m\u001b[0;34m.\u001b[0m\u001b[0mstrftime\u001b[0m\u001b[0;34m(\u001b[0m\u001b[0;34m'%H:%M:%S'\u001b[0m\u001b[0;34m)\u001b[0m\u001b[0;34m\u001b[0m\u001b[0;34m\u001b[0m\u001b[0m\n",
            "\u001b[0;32m/usr/local/lib/python2.7/dist-packages/pandas/core/generic.pyc\u001b[0m in \u001b[0;36m__getattr__\u001b[0;34m(self, name)\u001b[0m\n\u001b[1;32m   5065\u001b[0m             \u001b[0;32mif\u001b[0m \u001b[0mself\u001b[0m\u001b[0;34m.\u001b[0m\u001b[0m_info_axis\u001b[0m\u001b[0;34m.\u001b[0m\u001b[0m_can_hold_identifiers_and_holds_name\u001b[0m\u001b[0;34m(\u001b[0m\u001b[0mname\u001b[0m\u001b[0;34m)\u001b[0m\u001b[0;34m:\u001b[0m\u001b[0;34m\u001b[0m\u001b[0;34m\u001b[0m\u001b[0m\n\u001b[1;32m   5066\u001b[0m                 \u001b[0;32mreturn\u001b[0m \u001b[0mself\u001b[0m\u001b[0;34m[\u001b[0m\u001b[0mname\u001b[0m\u001b[0;34m]\u001b[0m\u001b[0;34m\u001b[0m\u001b[0;34m\u001b[0m\u001b[0m\n\u001b[0;32m-> 5067\u001b[0;31m             \u001b[0;32mreturn\u001b[0m \u001b[0mobject\u001b[0m\u001b[0;34m.\u001b[0m\u001b[0m__getattribute__\u001b[0m\u001b[0;34m(\u001b[0m\u001b[0mself\u001b[0m\u001b[0;34m,\u001b[0m \u001b[0mname\u001b[0m\u001b[0;34m)\u001b[0m\u001b[0;34m\u001b[0m\u001b[0;34m\u001b[0m\u001b[0m\n\u001b[0m\u001b[1;32m   5068\u001b[0m \u001b[0;34m\u001b[0m\u001b[0m\n\u001b[1;32m   5069\u001b[0m     \u001b[0;32mdef\u001b[0m \u001b[0m__setattr__\u001b[0m\u001b[0;34m(\u001b[0m\u001b[0mself\u001b[0m\u001b[0;34m,\u001b[0m \u001b[0mname\u001b[0m\u001b[0;34m,\u001b[0m \u001b[0mvalue\u001b[0m\u001b[0;34m)\u001b[0m\u001b[0;34m:\u001b[0m\u001b[0;34m\u001b[0m\u001b[0;34m\u001b[0m\u001b[0m\n",
            "\u001b[0;31mAttributeError\u001b[0m: 'Series' object has no attribute 'strftime'"
          ]
        }
      ]
    },
    {
      "cell_type": "code",
      "metadata": {
        "id": "tzuLgTk89FwP",
        "colab_type": "code",
        "colab": {
          "base_uri": "https://localhost:8080/",
          "height": 647
        },
        "outputId": "a4291608-df40-4c6d-e8ae-c4bbed949817"
      },
      "source": [
        "media[['Swim','Bike','Run','Total']]"
      ],
      "execution_count": 163,
      "outputs": [
        {
          "output_type": "execute_result",
          "data": {
            "text/html": [
              "<div>\n",
              "<style scoped>\n",
              "    .dataframe tbody tr th:only-of-type {\n",
              "        vertical-align: middle;\n",
              "    }\n",
              "\n",
              "    .dataframe tbody tr th {\n",
              "        vertical-align: top;\n",
              "    }\n",
              "\n",
              "    .dataframe thead th {\n",
              "        text-align: right;\n",
              "    }\n",
              "</style>\n",
              "<table border=\"1\" class=\"dataframe\">\n",
              "  <thead>\n",
              "    <tr style=\"text-align: right;\">\n",
              "      <th></th>\n",
              "      <th></th>\n",
              "      <th>Swim</th>\n",
              "      <th>Bike</th>\n",
              "      <th>Run</th>\n",
              "      <th>Total</th>\n",
              "    </tr>\n",
              "    <tr>\n",
              "      <th>Categ</th>\n",
              "      <th>Sexo</th>\n",
              "      <th></th>\n",
              "      <th></th>\n",
              "      <th></th>\n",
              "      <th></th>\n",
              "    </tr>\n",
              "  </thead>\n",
              "  <tbody>\n",
              "    <tr>\n",
              "      <th rowspan=\"2\" valign=\"top\">18-24</th>\n",
              "      <th>F</th>\n",
              "      <td>1875-04-21 11:15:42.460580864</td>\n",
              "      <td>1875-04-21 13:23:38.793913856</td>\n",
              "      <td>1875-04-21 12:37:13.349469696</td>\n",
              "      <td>1875-04-21 16:02:05.571692032</td>\n",
              "    </tr>\n",
              "    <tr>\n",
              "      <th>M</th>\n",
              "      <td>1867-01-26 14:44:24.095588864</td>\n",
              "      <td>1867-01-26 16:26:39.651144704</td>\n",
              "      <td>1867-01-26 15:55:13.465959424</td>\n",
              "      <td>1875-04-21 15:17:40.793913856</td>\n",
              "    </tr>\n",
              "    <tr>\n",
              "      <th rowspan=\"2\" valign=\"top\">25-29</th>\n",
              "      <th>F</th>\n",
              "      <td>1877-10-09 12:35:15.281189888</td>\n",
              "      <td>1877-10-09 14:29:55.847855616</td>\n",
              "      <td>1870-05-13 09:46:10.152695808</td>\n",
              "      <td>1870-05-13 12:50:26.252696576</td>\n",
              "    </tr>\n",
              "    <tr>\n",
              "      <th>M</th>\n",
              "      <td>1881-06-23 14:34:37.209071616</td>\n",
              "      <td>1881-06-23 16:22:59.890891264</td>\n",
              "      <td>1874-09-28 12:06:50.410442752</td>\n",
              "      <td>1874-09-28 15:01:48.471048192</td>\n",
              "    </tr>\n",
              "    <tr>\n",
              "      <th rowspan=\"2\" valign=\"top\">30-34</th>\n",
              "      <th>F</th>\n",
              "      <td>1878-10-31 02:53:45.890022400</td>\n",
              "      <td>1876-09-18 00:16:29.681880064</td>\n",
              "      <td>1874-08-06 19:01:10.054691840</td>\n",
              "      <td>1876-09-18 02:51:19.739023360</td>\n",
              "    </tr>\n",
              "    <tr>\n",
              "      <th>M</th>\n",
              "      <td>1885-11-08 16:56:48.300149248</td>\n",
              "      <td>1883-02-28 17:16:59.065548800</td>\n",
              "      <td>1883-02-28 16:45:38.974637568</td>\n",
              "      <td>1884-07-04 20:33:34.413153792</td>\n",
              "    </tr>\n",
              "    <tr>\n",
              "      <th rowspan=\"2\" valign=\"top\">35-39</th>\n",
              "      <th>F</th>\n",
              "      <td>1880-05-21 15:27:39.787323392</td>\n",
              "      <td>1882-07-26 15:46:49.452564480</td>\n",
              "      <td>1878-03-17 18:28:42.896589312</td>\n",
              "      <td>1880-05-21 20:08:26.620656128</td>\n",
              "    </tr>\n",
              "    <tr>\n",
              "      <th>M</th>\n",
              "      <td>1879-07-21 13:22:52.962252800</td>\n",
              "      <td>1876-11-25 11:53:47.650525696</td>\n",
              "      <td>1875-10-07 13:26:46.864215040</td>\n",
              "      <td>1876-07-10 07:04:39.834763264</td>\n",
              "    </tr>\n",
              "    <tr>\n",
              "      <th rowspan=\"2\" valign=\"top\">40-44</th>\n",
              "      <th>F</th>\n",
              "      <td>1884-04-23 07:42:54.222018048</td>\n",
              "      <td>1881-09-11 06:53:36.070784</td>\n",
              "      <td>1879-01-30 03:25:31.048961024</td>\n",
              "      <td>1879-01-30 06:47:48.272491520</td>\n",
              "    </tr>\n",
              "    <tr>\n",
              "      <th>M</th>\n",
              "      <td>1869-07-23 05:00:23.891627520</td>\n",
              "      <td>1865-09-10 08:46:11.828936192</td>\n",
              "      <td>1863-04-11 21:35:46.802252800</td>\n",
              "      <td>1865-03-17 23:25:48.685772800</td>\n",
              "    </tr>\n",
              "    <tr>\n",
              "      <th rowspan=\"2\" valign=\"top\">45-49</th>\n",
              "      <th>F</th>\n",
              "      <td>1870-01-29 06:38:07.077241344</td>\n",
              "      <td>1865-10-21 02:29:58.041572864</td>\n",
              "      <td>1865-10-21 01:55:15.426188800</td>\n",
              "      <td>1865-10-21 05:07:03.772342272</td>\n",
              "    </tr>\n",
              "    <tr>\n",
              "      <th>M</th>\n",
              "      <td>1862-06-22 11:09:39.855687168</td>\n",
              "      <td>1859-08-03 04:23:37.316447232</td>\n",
              "      <td>1857-08-30 06:21:50.148874240</td>\n",
              "      <td>1858-08-16 19:58:33.685042176</td>\n",
              "    </tr>\n",
              "    <tr>\n",
              "      <th rowspan=\"2\" valign=\"top\">50-54</th>\n",
              "      <th>F</th>\n",
              "      <td>1875-04-21 11:18:37.016136704</td>\n",
              "      <td>1875-04-21 13:16:24.905025024</td>\n",
              "      <td>1875-04-21 12:40:51.645765632</td>\n",
              "      <td>1875-04-21 16:01:17.534654976</td>\n",
              "    </tr>\n",
              "    <tr>\n",
              "      <th>M</th>\n",
              "      <td>1868-07-26 07:36:26.757909504</td>\n",
              "      <td>1864-01-29 06:52:16.690136576</td>\n",
              "      <td>1859-08-03 03:59:15.349636608</td>\n",
              "      <td>1868-07-26 11:53:00.394272768</td>\n",
              "    </tr>\n",
              "    <tr>\n",
              "      <th rowspan=\"2\" valign=\"top\">55-59</th>\n",
              "      <th>F</th>\n",
              "      <td>1862-12-15 04:39:54.690870784</td>\n",
              "      <td>1862-12-15 06:35:57.357537280</td>\n",
              "      <td>1862-12-15 05:59:12.524204032</td>\n",
              "      <td>1862-12-15 09:21:22.357537280</td>\n",
              "    </tr>\n",
              "    <tr>\n",
              "      <th>M</th>\n",
              "      <td>1883-07-15 07:45:52.955201536</td>\n",
              "      <td>1879-06-02 23:25:48.494927360</td>\n",
              "      <td>1875-04-21 12:39:23.164284928</td>\n",
              "      <td>1879-06-03 02:11:59.476409344</td>\n",
              "    </tr>\n",
              "    <tr>\n",
              "      <th>60-64</th>\n",
              "      <th>M</th>\n",
              "      <td>1850-08-09 21:56:14.365604864</td>\n",
              "      <td>1862-12-15 06:29:46.079759872</td>\n",
              "      <td>1862-12-15 06:13:25.635314688</td>\n",
              "      <td>1875-04-21 16:25:17.238358528</td>\n",
              "    </tr>\n",
              "    <tr>\n",
              "      <th>65-69</th>\n",
              "      <th>M</th>\n",
              "      <td>00:40:51</td>\n",
              "      <td>02:40:36</td>\n",
              "      <td>1855-07-19 01:55:00.029044736</td>\n",
              "      <td>1855-07-19 04:52:51.029044224</td>\n",
              "    </tr>\n",
              "    <tr>\n",
              "      <th>C</th>\n",
              "      <th>M</th>\n",
              "      <td>00:41:27</td>\n",
              "      <td>02:46:34</td>\n",
              "      <td>02:19:33</td>\n",
              "      <td>05:57:44</td>\n",
              "    </tr>\n",
              "  </tbody>\n",
              "</table>\n",
              "</div>"
            ],
            "text/plain": [
              "                                     Swim  ...                          Total\n",
              "Categ Sexo                                 ...                               \n",
              "18-24 F     1875-04-21 11:15:42.460580864  ...  1875-04-21 16:02:05.571692032\n",
              "      M     1867-01-26 14:44:24.095588864  ...  1875-04-21 15:17:40.793913856\n",
              "25-29 F     1877-10-09 12:35:15.281189888  ...  1870-05-13 12:50:26.252696576\n",
              "      M     1881-06-23 14:34:37.209071616  ...  1874-09-28 15:01:48.471048192\n",
              "30-34 F     1878-10-31 02:53:45.890022400  ...  1876-09-18 02:51:19.739023360\n",
              "      M     1885-11-08 16:56:48.300149248  ...  1884-07-04 20:33:34.413153792\n",
              "35-39 F     1880-05-21 15:27:39.787323392  ...  1880-05-21 20:08:26.620656128\n",
              "      M     1879-07-21 13:22:52.962252800  ...  1876-07-10 07:04:39.834763264\n",
              "40-44 F     1884-04-23 07:42:54.222018048  ...  1879-01-30 06:47:48.272491520\n",
              "      M     1869-07-23 05:00:23.891627520  ...  1865-03-17 23:25:48.685772800\n",
              "45-49 F     1870-01-29 06:38:07.077241344  ...  1865-10-21 05:07:03.772342272\n",
              "      M     1862-06-22 11:09:39.855687168  ...  1858-08-16 19:58:33.685042176\n",
              "50-54 F     1875-04-21 11:18:37.016136704  ...  1875-04-21 16:01:17.534654976\n",
              "      M     1868-07-26 07:36:26.757909504  ...  1868-07-26 11:53:00.394272768\n",
              "55-59 F     1862-12-15 04:39:54.690870784  ...  1862-12-15 09:21:22.357537280\n",
              "      M     1883-07-15 07:45:52.955201536  ...  1879-06-03 02:11:59.476409344\n",
              "60-64 M     1850-08-09 21:56:14.365604864  ...  1875-04-21 16:25:17.238358528\n",
              "65-69 M                          00:40:51  ...  1855-07-19 04:52:51.029044224\n",
              "C     M                          00:41:27  ...                       05:57:44\n",
              "\n",
              "[19 rows x 4 columns]"
            ]
          },
          "metadata": {
            "tags": []
          },
          "execution_count": 163
        }
      ]
    },
    {
      "cell_type": "code",
      "metadata": {
        "id": "PJeiOpwhZ8q7",
        "colab_type": "code",
        "colab": {}
      },
      "source": [
        "mais_rapidos = finished.groupby(['Categ','Sexo'])['Swim','Bike','Run','Total'].min()"
      ],
      "execution_count": 0,
      "outputs": []
    },
    {
      "cell_type": "code",
      "metadata": {
        "id": "n-fufMr2aJ-W",
        "colab_type": "code",
        "colab": {}
      },
      "source": [
        "#mais_rapidos['Total'] = pd.to_datetime(mais_rapidos['nTotal'], format= '%Y-%m-%d %H:%M:%S')\n",
        "#mais_rapidos['Swim'] = pd.to_datetime(mais_rapidos['nSwim'], format= '%Y-%m-%d %H:%M:%S')\n",
        "#mais_rapidos['Bike'] = pd.to_datetime(mais_rapidos['nBike'], format= '%Y-%m-%d %H:%M:%S')\n",
        "#mais_rapidos['Run'] = pd.to_datetime(mais_rapidos['nRun'], format= '%Y-%m-%d %H:%M:%S')"
      ],
      "execution_count": 0,
      "outputs": []
    },
    {
      "cell_type": "code",
      "metadata": {
        "id": "KVmQJzfSaSC5",
        "colab_type": "code",
        "outputId": "0cb57d8b-3eb8-4cba-ae1e-3f214db6969b",
        "colab": {
          "base_uri": "https://localhost:8080/",
          "height": 731
        }
      },
      "source": [
        "mais_rapidos[['Swim','Bike','Run','Total']]"
      ],
      "execution_count": 0,
      "outputs": [
        {
          "output_type": "execute_result",
          "data": {
            "text/html": [
              "<div>\n",
              "<style scoped>\n",
              "    .dataframe tbody tr th:only-of-type {\n",
              "        vertical-align: middle;\n",
              "    }\n",
              "\n",
              "    .dataframe tbody tr th {\n",
              "        vertical-align: top;\n",
              "    }\n",
              "\n",
              "    .dataframe thead th {\n",
              "        text-align: right;\n",
              "    }\n",
              "</style>\n",
              "<table border=\"1\" class=\"dataframe\">\n",
              "  <thead>\n",
              "    <tr style=\"text-align: right;\">\n",
              "      <th></th>\n",
              "      <th></th>\n",
              "      <th>Swim</th>\n",
              "      <th>Bike</th>\n",
              "      <th>Run</th>\n",
              "      <th>Total</th>\n",
              "    </tr>\n",
              "    <tr>\n",
              "      <th>Categ</th>\n",
              "      <th>Sexo</th>\n",
              "      <th></th>\n",
              "      <th></th>\n",
              "      <th></th>\n",
              "      <th></th>\n",
              "    </tr>\n",
              "  </thead>\n",
              "  <tbody>\n",
              "    <tr>\n",
              "      <th rowspan=\"2\" valign=\"top\">18-24</th>\n",
              "      <th>F</th>\n",
              "      <td>00:29:55</td>\n",
              "      <td>02:23:46</td>\n",
              "      <td>01:39:38</td>\n",
              "      <td>04:40:40</td>\n",
              "    </tr>\n",
              "    <tr>\n",
              "      <th>M</th>\n",
              "      <td>00:26:59</td>\n",
              "      <td>02:12:38</td>\n",
              "      <td>01:23:05</td>\n",
              "      <td>04:13:55</td>\n",
              "    </tr>\n",
              "    <tr>\n",
              "      <th rowspan=\"2\" valign=\"top\">25-29</th>\n",
              "      <th>F</th>\n",
              "      <td>00:28:29</td>\n",
              "      <td>02:22:33</td>\n",
              "      <td>01:34:50</td>\n",
              "      <td>04:34:40</td>\n",
              "    </tr>\n",
              "    <tr>\n",
              "      <th>M</th>\n",
              "      <td>00:24:14</td>\n",
              "      <td>02:10:34</td>\n",
              "      <td>01:24:59</td>\n",
              "      <td>04:10:58</td>\n",
              "    </tr>\n",
              "    <tr>\n",
              "      <th rowspan=\"2\" valign=\"top\">30-34</th>\n",
              "      <th>F</th>\n",
              "      <td>00:29:18</td>\n",
              "      <td>02:21:21</td>\n",
              "      <td>01:29:39</td>\n",
              "      <td>04:38:30</td>\n",
              "    </tr>\n",
              "    <tr>\n",
              "      <th>M</th>\n",
              "      <td>00:24:02</td>\n",
              "      <td>02:10:04</td>\n",
              "      <td>01:23:18</td>\n",
              "      <td>04:06:14</td>\n",
              "    </tr>\n",
              "    <tr>\n",
              "      <th rowspan=\"2\" valign=\"top\">35-39</th>\n",
              "      <th>F</th>\n",
              "      <td>00:26:36</td>\n",
              "      <td>02:16:41</td>\n",
              "      <td>01:33:40</td>\n",
              "      <td>04:22:03</td>\n",
              "    </tr>\n",
              "    <tr>\n",
              "      <th>M</th>\n",
              "      <td>00:24:16</td>\n",
              "      <td>02:07:33</td>\n",
              "      <td>01:19:10</td>\n",
              "      <td>04:00:34</td>\n",
              "    </tr>\n",
              "    <tr>\n",
              "      <th rowspan=\"2\" valign=\"top\">40-44</th>\n",
              "      <th>F</th>\n",
              "      <td>00:27:02</td>\n",
              "      <td>01:37:26</td>\n",
              "      <td>01:29:59</td>\n",
              "      <td>04:23:34</td>\n",
              "    </tr>\n",
              "    <tr>\n",
              "      <th>M</th>\n",
              "      <td>00:22:08</td>\n",
              "      <td>02:06:34</td>\n",
              "      <td>00:27:28</td>\n",
              "      <td>04:01:18</td>\n",
              "    </tr>\n",
              "    <tr>\n",
              "      <th rowspan=\"2\" valign=\"top\">45-49</th>\n",
              "      <th>F</th>\n",
              "      <td>00:30:33</td>\n",
              "      <td>02:28:48</td>\n",
              "      <td>01:41:08</td>\n",
              "      <td>04:56:43</td>\n",
              "    </tr>\n",
              "    <tr>\n",
              "      <th>M</th>\n",
              "      <td>00:24:57</td>\n",
              "      <td>02:08:57</td>\n",
              "      <td>01:25:36</td>\n",
              "      <td>04:17:22</td>\n",
              "    </tr>\n",
              "    <tr>\n",
              "      <th rowspan=\"2\" valign=\"top\">50-54</th>\n",
              "      <th>F</th>\n",
              "      <td>00:35:11</td>\n",
              "      <td>02:31:19</td>\n",
              "      <td>01:48:10</td>\n",
              "      <td>05:02:04</td>\n",
              "    </tr>\n",
              "    <tr>\n",
              "      <th>M</th>\n",
              "      <td>00:26:26</td>\n",
              "      <td>02:14:56</td>\n",
              "      <td>01:26:09</td>\n",
              "      <td>04:12:47</td>\n",
              "    </tr>\n",
              "    <tr>\n",
              "      <th rowspan=\"2\" valign=\"top\">55-59</th>\n",
              "      <th>F</th>\n",
              "      <td>00:38:20</td>\n",
              "      <td>02:42:27</td>\n",
              "      <td>02:05:35</td>\n",
              "      <td>05:48:04</td>\n",
              "    </tr>\n",
              "    <tr>\n",
              "      <th>M</th>\n",
              "      <td>00:28:32</td>\n",
              "      <td>02:17:53</td>\n",
              "      <td>01:36:18</td>\n",
              "      <td>04:27:10</td>\n",
              "    </tr>\n",
              "    <tr>\n",
              "      <th rowspan=\"2\" valign=\"top\">60-64</th>\n",
              "      <th>F</th>\n",
              "      <td>00:51:29</td>\n",
              "      <td>03:21:35</td>\n",
              "      <td>02:33:25</td>\n",
              "      <td>06:59:20</td>\n",
              "    </tr>\n",
              "    <tr>\n",
              "      <th>M</th>\n",
              "      <td>00:33:12</td>\n",
              "      <td>02:25:03</td>\n",
              "      <td>01:52:12</td>\n",
              "      <td>05:03:16</td>\n",
              "    </tr>\n",
              "    <tr>\n",
              "      <th>65-69</th>\n",
              "      <th>M</th>\n",
              "      <td>00:34:56</td>\n",
              "      <td>02:22:45</td>\n",
              "      <td>02:01:13</td>\n",
              "      <td>05:12:29</td>\n",
              "    </tr>\n",
              "    <tr>\n",
              "      <th>70-74</th>\n",
              "      <th>M</th>\n",
              "      <td>00:50:03</td>\n",
              "      <td>03:31:30</td>\n",
              "      <td>02:46:57</td>\n",
              "      <td>07:15:55</td>\n",
              "    </tr>\n",
              "    <tr>\n",
              "      <th>C</th>\n",
              "      <th>M</th>\n",
              "      <td>00:39:46</td>\n",
              "      <td>02:40:46</td>\n",
              "      <td>01:55:45</td>\n",
              "      <td>05:27:28</td>\n",
              "    </tr>\n",
              "  </tbody>\n",
              "</table>\n",
              "</div>"
            ],
            "text/plain": [
              "                Swim      Bike       Run     Total\n",
              "Categ Sexo                                        \n",
              "18-24 F     00:29:55  02:23:46  01:39:38  04:40:40\n",
              "      M     00:26:59  02:12:38  01:23:05  04:13:55\n",
              "25-29 F     00:28:29  02:22:33  01:34:50  04:34:40\n",
              "      M     00:24:14  02:10:34  01:24:59  04:10:58\n",
              "30-34 F     00:29:18  02:21:21  01:29:39  04:38:30\n",
              "      M     00:24:02  02:10:04  01:23:18  04:06:14\n",
              "35-39 F     00:26:36  02:16:41  01:33:40  04:22:03\n",
              "      M     00:24:16  02:07:33  01:19:10  04:00:34\n",
              "40-44 F     00:27:02  01:37:26  01:29:59  04:23:34\n",
              "      M     00:22:08  02:06:34  00:27:28  04:01:18\n",
              "45-49 F     00:30:33  02:28:48  01:41:08  04:56:43\n",
              "      M     00:24:57  02:08:57  01:25:36  04:17:22\n",
              "50-54 F     00:35:11  02:31:19  01:48:10  05:02:04\n",
              "      M     00:26:26  02:14:56  01:26:09  04:12:47\n",
              "55-59 F     00:38:20  02:42:27  02:05:35  05:48:04\n",
              "      M     00:28:32  02:17:53  01:36:18  04:27:10\n",
              "60-64 F     00:51:29  03:21:35  02:33:25  06:59:20\n",
              "      M     00:33:12  02:25:03  01:52:12  05:03:16\n",
              "65-69 M     00:34:56  02:22:45  02:01:13  05:12:29\n",
              "70-74 M     00:50:03  03:31:30  02:46:57  07:15:55\n",
              "C     M     00:39:46  02:40:46  01:55:45  05:27:28"
            ]
          },
          "metadata": {
            "tags": []
          },
          "execution_count": 32
        }
      ]
    },
    {
      "cell_type": "code",
      "metadata": {
        "id": "H5YsQPU88xxw",
        "colab_type": "code",
        "outputId": "b43ab1d0-0085-4bac-90c0-f8f70f538bfe",
        "colab": {
          "base_uri": "https://localhost:8080/",
          "height": 390
        }
      },
      "source": [
        "#categorias_excluidas = ['C','PRO']\n",
        "#categorias = resultados[~resultados.isin(categorias_excluidas)] \n",
        "categorias = resultados\n",
        "hist = categorias['Categ'].value_counts().sort_index(ascending=True).plot.bar(rot=0, title=\"Quantidade Atletas por Categoria\", figsize=(10,6) )\n",
        "\n",
        "rects = hist.patches\n",
        "\n",
        "# Make labels\n",
        "labels = [ i for i in categorias['Categ'].value_counts().sort_index(ascending=True) ]\n",
        "\n",
        "for rect, label in zip(rects, labels):\n",
        "    height = rect.get_height()\n",
        "    hist.text(rect.get_x() + rect.get_width() / 2, height, label, ha='center', va='bottom')\n",
        "\n",
        "hist.patch.set_facecolor('#FFFFFF')"
      ],
      "execution_count": 0,
      "outputs": [
        {
          "output_type": "display_data",
          "data": {
            "image/png": "[encoded data removed]",
            "text/plain": [
              "<Figure size 720x432 with 1 Axes>"
            ]
          },
          "metadata": {
            "tags": []
          }
        }
      ]
    },
    {
      "cell_type": "code",
      "metadata": {
        "id": "xe5ejfCDi_t2",
        "colab_type": "code",
        "colab": {}
      },
      "source": [
        "resultados.loc[resultados['Total'] < pd.to_datetime(target + ':00:00', format= '%H:%M:%S'), 'Abaixo' + target] = 'Abaixo ' + target + ' horas' \n",
        "resultados.loc[resultados['Total'] >= pd.to_datetime(target + ':00:00', format= '%H:%M:%S'), 'Abaixo' + target] = 'Acima ' + target + ' horas' "
      ],
      "execution_count": 0,
      "outputs": []
    },
    {
      "cell_type": "code",
      "metadata": {
        "id": "gaS14msW33ZK",
        "colab_type": "code",
        "outputId": "6174a9f5-0c2e-4df8-aa8d-d69bc520d82a",
        "colab": {
          "base_uri": "https://localhost:8080/",
          "height": 255
        }
      },
      "source": [
        "resultados['Abaixo' + target].value_counts().plot.pie(title='', colors=colors, explode=[0.1, 0], autopct='%1.0f%%').axis('equal');"
      ],
      "execution_count": 0,
      "outputs": [
        {
          "output_type": "display_data",
          "data": {
            "image/png": "[encoded data removed]",
            "text/plain": [
              "<Figure size 432x288 with 1 Axes>"
            ]
          },
          "metadata": {
            "tags": []
          }
        }
      ]
    }
  ]
}