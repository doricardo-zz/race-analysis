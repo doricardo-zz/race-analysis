{
  "nbformat": 4,
  "nbformat_minor": 0,
  "metadata": {
    "colab": {
      "name": "race-analysis-2019.ipynb",
      "version": "0.3.2",
      "provenance": [],
      "collapsed_sections": [],
      "include_colab_link": true
    },
    "kernelspec": {
      "name": "python2",
      "display_name": "Python 2"
    }
  },
  "cells": [
    {
      "cell_type": "markdown",
      "metadata": {
        "id": "view-in-github",
        "colab_type": "text"
      },
      "source": [
        "<a href=\"https://colab.research.google.com/github/doricardo/analyse-race/blob/master/code/race-analysis.ipynb\" target=\"_parent\"><img src=\"https://colab.research.google.com/assets/colab-badge.svg\" alt=\"Open In Colab\"/></a>"
      ]
    },
    {
      "metadata": {
        "id": "Y2ucOLJQ3Fbd",
        "colab_type": "text"
      },
      "cell_type": "markdown",
      "source": [
        "## Análise Resultados Corrida"
      ]
    },
    {
      "metadata": {
        "id": "iHg29tET6G_8",
        "colab_type": "text"
      },
      "cell_type": "markdown",
      "source": [
        "1.   Importação dos resultados\n",
        "2.   Limpeza dos dados\n",
        "3.   Média Swim, Bike, Run por categoria\n",
        "4.   Melhores Splits Swim, Bike, Run por categoria\n",
        "5.   Quantidade de Atleats por Categoria\n",
        "6.   Percentual de Sub10 geral\n",
        "7.   Percentual de Sub10 por categoria amadora"
      ]
    },
    {
      "metadata": {
        "id": "7LR_Quco7oS8",
        "colab_type": "code",
        "colab": {}
      },
      "cell_type": "code",
      "source": [
        "import numpy as np\n",
        "import pandas as pd\n",
        "\n",
        "missing_values = ['--:--:--']\n",
        "resultados = pd.read_csv('http://doricardo.com/results/2019-uruguay70.3-full.csv', na_values = missing_values, encoding = 'cp1252')\n",
        "target = '05'\n",
        "continent = pd.read_csv('http://doricardo.com/dataframe/country-and-continent.csv')\n",
        "colors = ['#ff9999','#66b3ff','#99ff99','#ffcc99']"
      ],
      "execution_count": 0,
      "outputs": []
    },
    {
      "metadata": {
        "id": "_JHLpxh0b6Ho",
        "colab_type": "code",
        "colab": {}
      },
      "cell_type": "code",
      "source": [
        "def limpar_titulo(dataframe):\n",
        "    dataframe.drop(['Pos'])   \n",
        "    \n",
        "def recuperar_media(df, categoria, sexo, atividade):\n",
        "    tempos = pd.to_datetime(df[(df.Categ == categoria) & (df.Sexo == sexo) & (df[atividade].notnull())][atividade], format= '%H:%M:%S').astype(int).mean()\n",
        "    media = pd.to_datetime(tempos, format= '%Y-%m-%d %H:%M:%S')\n",
        "    return pd.to_datetime(media, format= '%Y-%m-%d %H:%M:%S')"
      ],
      "execution_count": 0,
      "outputs": []
    },
    {
      "metadata": {
        "id": "9wiegZA3gCdv",
        "colab_type": "code",
        "colab": {}
      },
      "cell_type": "code",
      "source": [
        "# Limpar nome Colunas duplicadas\n",
        "resultados = resultados[resultados.Pos != 'Pos']\n",
        "\n",
        "# Incluir nome Colunas\n",
        "resultados.columns = ['Bib', 'Pos', 'Nome', 'Pais', 'Categ', 'Pos Categ', 'Swim', 'Bike', 'Run', 'Total', 'Status', 'Sexo']"
      ],
      "execution_count": 0,
      "outputs": []
    },
    {
      "metadata": {
        "id": "krve_ftDt366",
        "colab_type": "code",
        "colab": {}
      },
      "cell_type": "code",
      "source": [
        "resultados['Finished'] = resultados['Status']"
      ],
      "execution_count": 0,
      "outputs": []
    },
    {
      "metadata": {
        "id": "2AOmZbamwTO4",
        "colab_type": "code",
        "colab": {}
      },
      "cell_type": "code",
      "source": [
        "resultados.loc[resultados.Status != 'Finish', 'Finished'] = 'No'\n",
        "resultados.loc[resultados.Status == 'Finish', 'Finished'] = 'Yes'"
      ],
      "execution_count": 0,
      "outputs": []
    },
    {
      "metadata": {
        "id": "MN4LeynvrUam",
        "colab_type": "code",
        "colab": {}
      },
      "cell_type": "code",
      "source": [
        "finished = resultados[resultados.Status == 'Finish']\n",
        "unfinished = resultados[resultados.Status != 'Finish']"
      ],
      "execution_count": 0,
      "outputs": []
    },
    {
      "metadata": {
        "id": "GwK6DJewYyW7",
        "colab_type": "code",
        "colab": {
          "base_uri": "https://localhost:8080/",
          "height": 102
        },
        "outputId": "a5b59f59-1fbd-419e-82e1-03c6604be49b"
      },
      "cell_type": "code",
      "source": [
        "finished.Swim.fillna(pd.to_datetime(pd.to_datetime(finished['Swim'],format= '%H:%M:%S').astype(int).median(), format= '%Y-%m-%d %H:%M:%S').strftime('%H:%M:%S'), inplace=True)"
      ],
      "execution_count": 9,
      "outputs": [
        {
          "output_type": "stream",
          "text": [
            "/usr/local/lib/python2.7/dist-packages/pandas/core/generic.py:4355: SettingWithCopyWarning: \n",
            "A value is trying to be set on a copy of a slice from a DataFrame\n",
            "\n",
            "See the caveats in the documentation: http://pandas.pydata.org/pandas-docs/stable/indexing.html#indexing-view-versus-copy\n",
            "  self._update_inplace(new_data)\n"
          ],
          "name": "stderr"
        }
      ]
    },
    {
      "metadata": {
        "id": "_MPPeq1HmKm3",
        "colab_type": "code",
        "colab": {}
      },
      "cell_type": "code",
      "source": [
        "finished.Bike.fillna(pd.to_datetime(pd.to_datetime(finished['Bike'],format= '%H:%M:%S').astype(int).median(), format= '%Y-%m-%d %H:%M:%S').strftime('%H:%M:%S'), inplace=True)"
      ],
      "execution_count": 0,
      "outputs": []
    },
    {
      "metadata": {
        "id": "RldNVSxBmOdF",
        "colab_type": "code",
        "colab": {}
      },
      "cell_type": "code",
      "source": [
        "finished.Run.fillna(pd.to_datetime(pd.to_datetime(finished['Run'],format= '%H:%M:%S').astype(int).median(), format= '%Y-%m-%d %H:%M:%S').strftime('%H:%M:%S'), inplace=True)"
      ],
      "execution_count": 0,
      "outputs": []
    },
    {
      "metadata": {
        "id": "5m4kjkw4xZCe",
        "colab_type": "code",
        "outputId": "b49af580-2785-40a1-ca8d-2447ca45b78a",
        "colab": {
          "base_uri": "https://localhost:8080/",
          "height": 255
        }
      },
      "cell_type": "code",
      "source": [
        "# Percentual de atletas que Concluiram a prova\n",
        "resultados.groupby(['Finished']).Pos.count().plot.pie(title='', colors=colors, shadow=True, explode=[0.1, 0], startangle=90, autopct='%1.0f%%').axis('equal');"
      ],
      "execution_count": 12,
      "outputs": [
        {
          "output_type": "display_data",
          "data": {
            "image/png": "[encoded data removed]",
            "text/plain": [
              "<Figure size 432x288 with 1 Axes>"
            ]
          },
          "metadata": {
            "tags": []
          }
        }
      ]
    },
    {
      "metadata": {
        "id": "QPmcqJkNiplC",
        "colab_type": "code",
        "outputId": "99bd9c02-2734-432d-b7cf-b13c06440105",
        "colab": {
          "base_uri": "https://localhost:8080/",
          "height": 255
        }
      },
      "cell_type": "code",
      "source": [
        "# Distribuição dos motivos de não conlusão da prova\n",
        "unfinished.groupby(['Status']).Pos.count().plot.pie(title='', colors=colors, shadow=True, explode=[0, 0.1, 0], startangle=90, autopct='%1.0f%%').axis('equal');"
      ],
      "execution_count": 0,
      "outputs": [
        {
          "output_type": "display_data",
          "data": {
            "image/png": "[encoded data removed]",
            "text/plain": [
              "<Figure size 432x288 with 1 Axes>"
            ]
          },
          "metadata": {
            "tags": []
          }
        }
      ]
    },
    {
      "metadata": {
        "id": "B7LRjkQ06kbh",
        "colab_type": "code",
        "outputId": "f27db50c-7939-4124-dbe6-52b0efd30953",
        "colab": {
          "base_uri": "https://localhost:8080/",
          "height": 295
        }
      },
      "cell_type": "code",
      "source": [
        "hist = finished.groupby(['Categ','Sexo']).Bib.count().unstack().plot.barh(rot = 0, title='Categorias por Genero Ironamn 2018', color=colors)\n",
        "hist.set_ylabel('')\n",
        "hist.set_xlabel('Quantidade');"
      ],
      "execution_count": 0,
      "outputs": [
        {
          "output_type": "display_data",
          "data": {
            "image/png": "[encoded data removed]",
            "text/plain": [
              "<Figure size 432x288 with 1 Axes>"
            ]
          },
          "metadata": {
            "tags": []
          }
        }
      ]
    },
    {
      "metadata": {
        "id": "AeML8Ytnm57u",
        "colab_type": "code",
        "outputId": "712fd7f4-083d-4fa4-fe3b-ed0b8be8c0f0",
        "colab": {
          "base_uri": "https://localhost:8080/",
          "height": 119
        }
      },
      "cell_type": "code",
      "source": [
        "finished['hora'] = np.where(finished.Total.str.slice(0, 2) < target, 'Abaixo' + target, 'Acima' + target)"
      ],
      "execution_count": 0,
      "outputs": [
        {
          "output_type": "stream",
          "text": [
            "/usr/local/lib/python2.7/dist-packages/ipykernel_launcher.py:1: SettingWithCopyWarning: \n",
            "A value is trying to be set on a copy of a slice from a DataFrame.\n",
            "Try using .loc[row_indexer,col_indexer] = value instead\n",
            "\n",
            "See the caveats in the documentation: http://pandas.pydata.org/pandas-docs/stable/indexing.html#indexing-view-versus-copy\n",
            "  \"\"\"Entry point for launching an IPython kernel.\n"
          ],
          "name": "stderr"
        }
      ]
    },
    {
      "metadata": {
        "id": "nnNZpElqJKXW",
        "colab_type": "code",
        "outputId": "f36f44a4-86d5-412c-c685-0321ea473dbf",
        "colab": {
          "base_uri": "https://localhost:8080/",
          "height": 255
        }
      },
      "cell_type": "code",
      "source": [
        "finished.groupby(['hora']).Pos.count().plot.pie(title='', colors=colors, shadow=True, startangle=90, explode=[0.1, 0], autopct='%1.0f%%').axis('equal');"
      ],
      "execution_count": 0,
      "outputs": [
        {
          "output_type": "display_data",
          "data": {
            "image/png": "[encoded data removed]",
            "text/plain": [
              "<Figure size 432x288 with 1 Axes>"
            ]
          },
          "metadata": {
            "tags": []
          }
        }
      ]
    },
    {
      "metadata": {
        "id": "39DoGJDundJa",
        "colab_type": "text"
      },
      "cell_type": "markdown",
      "source": [
        "##Converter Colunas"
      ]
    },
    {
      "metadata": {
        "id": "MM5nHcJTnajc",
        "colab_type": "code",
        "colab": {}
      },
      "cell_type": "code",
      "source": [
        "resultados['Swim'] = pd.to_datetime(resultados['Swim'],format= '%H:%M:%S')\n",
        "resultados['Bike'] = pd.to_datetime(resultados['Bike'],format= '%H:%M:%S')\n",
        "resultados['Run'] = pd.to_datetime(resultados['Run'],format= '%H:%M:%S')\n",
        "resultados['Total'] = pd.to_datetime(resultados['Total'],format= '%H:%M:%S')"
      ],
      "execution_count": 0,
      "outputs": []
    },
    {
      "metadata": {
        "id": "Ca6XIt2pYcLu",
        "colab_type": "code",
        "colab": {}
      },
      "cell_type": "code",
      "source": [
        "resultados['nSwim'] = pd.to_datetime(resultados['Swim'],format= '%H:%M:%S').astype(int)\n",
        "resultados['nBike'] = pd.to_datetime(resultados['Bike'],format= '%H:%M:%S').astype(int)\n",
        "resultados['nRun'] = pd.to_datetime(resultados['Run'],format= '%H:%M:%S').astype(int)\n",
        "resultados['nTotal'] = pd.to_datetime(resultados['Total'],format= '%H:%M:%S').astype(int)"
      ],
      "execution_count": 0,
      "outputs": []
    },
    {
      "metadata": {
        "id": "cskMcPQPEOyX",
        "colab_type": "text"
      },
      "cell_type": "markdown",
      "source": [
        "##Estatisticas Colunas"
      ]
    },
    {
      "metadata": {
        "id": "tUWJjTg4RgAl",
        "colab_type": "code",
        "colab": {}
      },
      "cell_type": "code",
      "source": [
        "media = resultados.groupby(['Categ','Sexo']).mean()"
      ],
      "execution_count": 0,
      "outputs": []
    },
    {
      "metadata": {
        "id": "V4fUcLZ5roPZ",
        "colab_type": "code",
        "colab": {}
      },
      "cell_type": "code",
      "source": [
        "media['Total'] = pd.to_datetime(media['nTotal'], format= '%Y-%m-%d %H:%M:%S')\n",
        "media['Swim'] = pd.to_datetime(media['nSwim'], format= '%Y-%m-%d %H:%M:%S')\n",
        "media['Bike'] = pd.to_datetime(media['nBike'], format= '%Y-%m-%d %H:%M:%S')\n",
        "media['Run'] = pd.to_datetime(media['nRun'], format= '%Y-%m-%d %H:%M:%S')"
      ],
      "execution_count": 0,
      "outputs": []
    },
    {
      "metadata": {
        "id": "PJeiOpwhZ8q7",
        "colab_type": "code",
        "colab": {}
      },
      "cell_type": "code",
      "source": [
        "mais_rapidos = finished.groupby(['Categ','Sexo'])['Swim','Bike','Run','Total'].min()"
      ],
      "execution_count": 0,
      "outputs": []
    },
    {
      "metadata": {
        "id": "Dnb-F7P882_N",
        "colab_type": "code",
        "outputId": "efc94549-4fcc-49c4-9120-e6ba7b7f11ef",
        "colab": {
          "base_uri": "https://localhost:8080/",
          "height": 282
        }
      },
      "cell_type": "code",
      "source": [
        "finished[finished.Total == mais_rapidos.Total]"
      ],
      "execution_count": 0,
      "outputs": [
        {
          "output_type": "error",
          "ename": "ValueError",
          "evalue": "ignored",
          "traceback": [
            "\u001b[0;31m\u001b[0m",
            "\u001b[0;31mValueError\u001b[0mTraceback (most recent call last)",
            "\u001b[0;32m<ipython-input-98-3cacded9b992>\u001b[0m in \u001b[0;36m<module>\u001b[0;34m()\u001b[0m\n\u001b[0;32m----> 1\u001b[0;31m \u001b[0mfinished\u001b[0m\u001b[0;34m[\u001b[0m\u001b[0mfinished\u001b[0m\u001b[0;34m.\u001b[0m\u001b[0mTotal\u001b[0m \u001b[0;34m==\u001b[0m \u001b[0mmais_rapidos\u001b[0m\u001b[0;34m.\u001b[0m\u001b[0mTotal\u001b[0m\u001b[0;34m]\u001b[0m\u001b[0;34m\u001b[0m\u001b[0m\n\u001b[0m",
            "\u001b[0;32m/usr/local/lib/python2.7/dist-packages/pandas/core/ops.pyc\u001b[0m in \u001b[0;36mwrapper\u001b[0;34m(self, other, axis)\u001b[0m\n\u001b[1;32m    834\u001b[0m             \u001b[0;32mif\u001b[0m \u001b[0;32mnot\u001b[0m \u001b[0mself\u001b[0m\u001b[0;34m.\u001b[0m\u001b[0m_indexed_same\u001b[0m\u001b[0;34m(\u001b[0m\u001b[0mother\u001b[0m\u001b[0;34m)\u001b[0m\u001b[0;34m:\u001b[0m\u001b[0;34m\u001b[0m\u001b[0m\n\u001b[1;32m    835\u001b[0m                 \u001b[0mmsg\u001b[0m \u001b[0;34m=\u001b[0m \u001b[0;34m'Can only compare identically-labeled Series objects'\u001b[0m\u001b[0;34m\u001b[0m\u001b[0m\n\u001b[0;32m--> 836\u001b[0;31m                 \u001b[0;32mraise\u001b[0m \u001b[0mValueError\u001b[0m\u001b[0;34m(\u001b[0m\u001b[0mmsg\u001b[0m\u001b[0;34m)\u001b[0m\u001b[0;34m\u001b[0m\u001b[0m\n\u001b[0m\u001b[1;32m    837\u001b[0m             return self._constructor(na_op(self.values, other.values),\n\u001b[1;32m    838\u001b[0m                                      index=self.index, name=name)\n",
            "\u001b[0;31mValueError\u001b[0m: Can only compare identically-labeled Series objects"
          ]
        }
      ]
    },
    {
      "metadata": {
        "id": "n-fufMr2aJ-W",
        "colab_type": "code",
        "colab": {}
      },
      "cell_type": "code",
      "source": [
        "#mais_rapidos['Total'] = pd.to_datetime(mais_rapidos['nTotal'], format= '%Y-%m-%d %H:%M:%S')\n",
        "#mais_rapidos['Swim'] = pd.to_datetime(mais_rapidos['nSwim'], format= '%Y-%m-%d %H:%M:%S')\n",
        "#mais_rapidos['Bike'] = pd.to_datetime(mais_rapidos['nBike'], format= '%Y-%m-%d %H:%M:%S')\n",
        "#mais_rapidos['Run'] = pd.to_datetime(mais_rapidos['nRun'], format= '%Y-%m-%d %H:%M:%S')"
      ],
      "execution_count": 0,
      "outputs": []
    },
    {
      "metadata": {
        "id": "KVmQJzfSaSC5",
        "colab_type": "code",
        "outputId": "e2760656-6131-421a-88d7-1d27b7e43847",
        "colab": {
          "base_uri": "https://localhost:8080/",
          "height": 700
        }
      },
      "cell_type": "code",
      "source": [
        "mais_rapidos[['Swim','Bike','Run','Total','Nome']]"
      ],
      "execution_count": 0,
      "outputs": [
        {
          "output_type": "execute_result",
          "data": {
            "text/html": [
              "<div>\n",
              "<style scoped>\n",
              "    .dataframe tbody tr th:only-of-type {\n",
              "        vertical-align: middle;\n",
              "    }\n",
              "\n",
              "    .dataframe tbody tr th {\n",
              "        vertical-align: top;\n",
              "    }\n",
              "\n",
              "    .dataframe thead th {\n",
              "        text-align: right;\n",
              "    }\n",
              "</style>\n",
              "<table border=\"1\" class=\"dataframe\">\n",
              "  <thead>\n",
              "    <tr style=\"text-align: right;\">\n",
              "      <th></th>\n",
              "      <th></th>\n",
              "      <th>Swim</th>\n",
              "      <th>Bike</th>\n",
              "      <th>Run</th>\n",
              "      <th>Total</th>\n",
              "      <th>Nome</th>\n",
              "    </tr>\n",
              "    <tr>\n",
              "      <th>Categ</th>\n",
              "      <th>Sexo</th>\n",
              "      <th></th>\n",
              "      <th></th>\n",
              "      <th></th>\n",
              "      <th></th>\n",
              "      <th></th>\n",
              "    </tr>\n",
              "  </thead>\n",
              "  <tbody>\n",
              "    <tr>\n",
              "      <th rowspan=\"2\" valign=\"top\">18-24</th>\n",
              "      <th>F</th>\n",
              "      <td>00:29:44</td>\n",
              "      <td>02:47:07</td>\n",
              "      <td>01:31:11</td>\n",
              "      <td>04:51:36</td>\n",
              "      <td>ADRIANA SAMANAMUD</td>\n",
              "    </tr>\n",
              "    <tr>\n",
              "      <th>M</th>\n",
              "      <td>00:25:34</td>\n",
              "      <td>02:15:35</td>\n",
              "      <td>01:18:33</td>\n",
              "      <td>04:04:49</td>\n",
              "      <td>AGUSTIN GUTIERREZ</td>\n",
              "    </tr>\n",
              "    <tr>\n",
              "      <th rowspan=\"2\" valign=\"top\">25-29</th>\n",
              "      <th>F</th>\n",
              "      <td>00:31:21</td>\n",
              "      <td>02:35:52</td>\n",
              "      <td>01:32:26</td>\n",
              "      <td>04:50:27</td>\n",
              "      <td>ALDI MARTINEZ</td>\n",
              "    </tr>\n",
              "    <tr>\n",
              "      <th>M</th>\n",
              "      <td>00:28:45</td>\n",
              "      <td>02:20:45</td>\n",
              "      <td>01:25:19</td>\n",
              "      <td>04:21:34</td>\n",
              "      <td>AGUSTIN BARABOTTI</td>\n",
              "    </tr>\n",
              "    <tr>\n",
              "      <th rowspan=\"2\" valign=\"top\">30-34</th>\n",
              "      <th>F</th>\n",
              "      <td>00:37:14</td>\n",
              "      <td>02:31:08</td>\n",
              "      <td>01:35:09</td>\n",
              "      <td>04:56:03</td>\n",
              "      <td>ADRIANA SCHUCHARDT</td>\n",
              "    </tr>\n",
              "    <tr>\n",
              "      <th>M</th>\n",
              "      <td>00:25:12</td>\n",
              "      <td>02:16:13</td>\n",
              "      <td>01:20:07</td>\n",
              "      <td>04:08:39</td>\n",
              "      <td>ADAN AVENDAÑO</td>\n",
              "    </tr>\n",
              "    <tr>\n",
              "      <th rowspan=\"2\" valign=\"top\">35-39</th>\n",
              "      <th>F</th>\n",
              "      <td>00:34:01</td>\n",
              "      <td>02:37:44</td>\n",
              "      <td>01:32:05</td>\n",
              "      <td>04:47:17</td>\n",
              "      <td>ADRIANA COUTINHO</td>\n",
              "    </tr>\n",
              "    <tr>\n",
              "      <th>M</th>\n",
              "      <td>00:28:32</td>\n",
              "      <td>02:15:50</td>\n",
              "      <td>01:17:18</td>\n",
              "      <td>04:11:12</td>\n",
              "      <td>ADROALDO PIRES CARTAGENA JUNIOR</td>\n",
              "    </tr>\n",
              "    <tr>\n",
              "      <th rowspan=\"2\" valign=\"top\">40-44</th>\n",
              "      <th>F</th>\n",
              "      <td>00:33:06</td>\n",
              "      <td>02:34:43</td>\n",
              "      <td>01:35:01</td>\n",
              "      <td>04:52:04</td>\n",
              "      <td>ALFONSINA ASCANI</td>\n",
              "    </tr>\n",
              "    <tr>\n",
              "      <th>M</th>\n",
              "      <td>00:28:54</td>\n",
              "      <td>02:20:47</td>\n",
              "      <td>01:23:01</td>\n",
              "      <td>04:18:04</td>\n",
              "      <td>ALEJANDRO BEGUERI BUQUET</td>\n",
              "    </tr>\n",
              "    <tr>\n",
              "      <th rowspan=\"2\" valign=\"top\">45-49</th>\n",
              "      <th>F</th>\n",
              "      <td>00:34:17</td>\n",
              "      <td>02:38:10</td>\n",
              "      <td>01:33:07</td>\n",
              "      <td>04:53:53</td>\n",
              "      <td>ALEJANDRA GRONDONA</td>\n",
              "    </tr>\n",
              "    <tr>\n",
              "      <th>M</th>\n",
              "      <td>00:26:00</td>\n",
              "      <td>02:21:17</td>\n",
              "      <td>01:22:12</td>\n",
              "      <td>04:22:35</td>\n",
              "      <td>ADRIAN VARGAS</td>\n",
              "    </tr>\n",
              "    <tr>\n",
              "      <th rowspan=\"2\" valign=\"top\">50-54</th>\n",
              "      <th>F</th>\n",
              "      <td>00:38:48</td>\n",
              "      <td>02:44:15</td>\n",
              "      <td>01:42:59</td>\n",
              "      <td>05:15:21</td>\n",
              "      <td>ALEJANDRA PIZANI</td>\n",
              "    </tr>\n",
              "    <tr>\n",
              "      <th>M</th>\n",
              "      <td>00:30:11</td>\n",
              "      <td>02:26:15</td>\n",
              "      <td>01:32:46</td>\n",
              "      <td>04:39:07</td>\n",
              "      <td>ALEJANDRO BAÑADOS LYON</td>\n",
              "    </tr>\n",
              "    <tr>\n",
              "      <th rowspan=\"2\" valign=\"top\">55-59</th>\n",
              "      <th>F</th>\n",
              "      <td>00:41:18</td>\n",
              "      <td>02:44:42</td>\n",
              "      <td>01:44:33</td>\n",
              "      <td>05:13:51</td>\n",
              "      <td>ADRIANNA DOMINGUEZ</td>\n",
              "    </tr>\n",
              "    <tr>\n",
              "      <th>M</th>\n",
              "      <td>00:33:21</td>\n",
              "      <td>02:31:42</td>\n",
              "      <td>01:36:21</td>\n",
              "      <td>04:50:43</td>\n",
              "      <td>ALEJANDRO BEHRENS</td>\n",
              "    </tr>\n",
              "    <tr>\n",
              "      <th rowspan=\"2\" valign=\"top\">60-64</th>\n",
              "      <th>F</th>\n",
              "      <td>00:40:05</td>\n",
              "      <td>03:13:02</td>\n",
              "      <td>02:11:39</td>\n",
              "      <td>06:27:59</td>\n",
              "      <td>CRUZ MARIA NARETTO HARVEY</td>\n",
              "    </tr>\n",
              "    <tr>\n",
              "      <th>M</th>\n",
              "      <td>00:23:51</td>\n",
              "      <td>02:42:12</td>\n",
              "      <td>01:47:37</td>\n",
              "      <td>05:15:04</td>\n",
              "      <td>ANDRES CARNE PLA</td>\n",
              "    </tr>\n",
              "    <tr>\n",
              "      <th>65-69</th>\n",
              "      <th>M</th>\n",
              "      <td>00:39:13</td>\n",
              "      <td>02:45:05</td>\n",
              "      <td>02:06:19</td>\n",
              "      <td>05:40:20</td>\n",
              "      <td>ARTHUR ANDRADE</td>\n",
              "    </tr>\n",
              "    <tr>\n",
              "      <th>70-74</th>\n",
              "      <th>M</th>\n",
              "      <td>00:47:18</td>\n",
              "      <td>03:13:16</td>\n",
              "      <td>02:45:54</td>\n",
              "      <td>06:56:16</td>\n",
              "      <td>CARLOS LEONCIO ZAPANA</td>\n",
              "    </tr>\n",
              "  </tbody>\n",
              "</table>\n",
              "</div>"
            ],
            "text/plain": [
              "                Swim      Bike       Run     Total  \\\n",
              "Categ Sexo                                           \n",
              "18-24 F     00:29:44  02:47:07  01:31:11  04:51:36   \n",
              "      M     00:25:34  02:15:35  01:18:33  04:04:49   \n",
              "25-29 F     00:31:21  02:35:52  01:32:26  04:50:27   \n",
              "      M     00:28:45  02:20:45  01:25:19  04:21:34   \n",
              "30-34 F     00:37:14  02:31:08  01:35:09  04:56:03   \n",
              "      M     00:25:12  02:16:13  01:20:07  04:08:39   \n",
              "35-39 F     00:34:01  02:37:44  01:32:05  04:47:17   \n",
              "      M     00:28:32  02:15:50  01:17:18  04:11:12   \n",
              "40-44 F     00:33:06  02:34:43  01:35:01  04:52:04   \n",
              "      M     00:28:54  02:20:47  01:23:01  04:18:04   \n",
              "45-49 F     00:34:17  02:38:10  01:33:07  04:53:53   \n",
              "      M     00:26:00  02:21:17  01:22:12  04:22:35   \n",
              "50-54 F     00:38:48  02:44:15  01:42:59  05:15:21   \n",
              "      M     00:30:11  02:26:15  01:32:46  04:39:07   \n",
              "55-59 F     00:41:18  02:44:42  01:44:33  05:13:51   \n",
              "      M     00:33:21  02:31:42  01:36:21  04:50:43   \n",
              "60-64 F     00:40:05  03:13:02  02:11:39  06:27:59   \n",
              "      M     00:23:51  02:42:12  01:47:37  05:15:04   \n",
              "65-69 M     00:39:13  02:45:05  02:06:19  05:40:20   \n",
              "70-74 M     00:47:18  03:13:16  02:45:54  06:56:16   \n",
              "\n",
              "                                       Nome  \n",
              "Categ Sexo                                   \n",
              "18-24 F                   ADRIANA SAMANAMUD  \n",
              "      M                   AGUSTIN GUTIERREZ  \n",
              "25-29 F                       ALDI MARTINEZ  \n",
              "      M                   AGUSTIN BARABOTTI  \n",
              "30-34 F                  ADRIANA SCHUCHARDT  \n",
              "      M                       ADAN AVENDAÑO  \n",
              "35-39 F                    ADRIANA COUTINHO  \n",
              "      M     ADROALDO PIRES CARTAGENA JUNIOR  \n",
              "40-44 F                    ALFONSINA ASCANI  \n",
              "      M            ALEJANDRO BEGUERI BUQUET  \n",
              "45-49 F                  ALEJANDRA GRONDONA  \n",
              "      M                       ADRIAN VARGAS  \n",
              "50-54 F                    ALEJANDRA PIZANI  \n",
              "      M              ALEJANDRO BAÑADOS LYON  \n",
              "55-59 F                  ADRIANNA DOMINGUEZ  \n",
              "      M                   ALEJANDRO BEHRENS  \n",
              "60-64 F           CRUZ MARIA NARETTO HARVEY  \n",
              "      M                    ANDRES CARNE PLA  \n",
              "65-69 M                      ARTHUR ANDRADE  \n",
              "70-74 M               CARLOS LEONCIO ZAPANA  "
            ]
          },
          "metadata": {
            "tags": []
          },
          "execution_count": 64
        }
      ]
    },
    {
      "metadata": {
        "id": "H5YsQPU88xxw",
        "colab_type": "code",
        "outputId": "7d622ec1-2719-4c28-a07b-8168987d3f59",
        "colab": {
          "base_uri": "https://localhost:8080/",
          "height": 390
        }
      },
      "cell_type": "code",
      "source": [
        "#categorias_excluidas = ['C','PRO']\n",
        "#categorias = resultados[~resultados.isin(categorias_excluidas)] \n",
        "categorias = resultados\n",
        "hist = categorias['Categ'].value_counts().sort_index(ascending=True).plot.bar(rot=0, title=\"Quantidade Atletas por Categoria\", figsize=(10,6) )\n",
        "\n",
        "rects = hist.patches\n",
        "\n",
        "# Make labels\n",
        "labels = [ i for i in categorias['Categ'].value_counts().sort_index(ascending=True) ]\n",
        "\n",
        "for rect, label in zip(rects, labels):\n",
        "    height = rect.get_height()\n",
        "    hist.text(rect.get_x() + rect.get_width() / 2, height, label, ha='center', va='bottom')\n",
        "\n",
        "hist.patch.set_facecolor('#FFFFFF')"
      ],
      "execution_count": 0,
      "outputs": [
        {
          "output_type": "display_data",
          "data": {
            "image/png": "[encoded data removed]",
            "text/plain": [
              "<Figure size 720x432 with 1 Axes>"
            ]
          },
          "metadata": {
            "tags": []
          }
        }
      ]
    },
    {
      "metadata": {
        "id": "xe5ejfCDi_t2",
        "colab_type": "code",
        "colab": {}
      },
      "cell_type": "code",
      "source": [
        "resultados.loc[resultados['Total'] < pd.to_datetime(target + ':00:00', format= '%H:%M:%S'), 'Abaixo' + target] = 'Abaixo ' + target + ' horas' \n",
        "resultados.loc[resultados['Total'] >= pd.to_datetime(target + ':00:00', format= '%H:%M:%S'), 'Abaixo' + target] = 'Acima ' + target + ' horas' "
      ],
      "execution_count": 0,
      "outputs": []
    },
    {
      "metadata": {
        "id": "gaS14msW33ZK",
        "colab_type": "code",
        "outputId": "45511188-f2d8-48de-9a9f-1fecb4d40ecc",
        "colab": {
          "base_uri": "https://localhost:8080/",
          "height": 255
        }
      },
      "cell_type": "code",
      "source": [
        "resultados['Abaixo' + target].value_counts().plot.pie(title='', explode=[0.1, 0], autopct='%1.0f%%');"
      ],
      "execution_count": 0,
      "outputs": [
        {
          "output_type": "display_data",
          "data": {
            "image/png": "[encoded data removed]",
            "text/plain": [
              "<Figure size 432x288 with 1 Axes>"
            ]
          },
          "metadata": {
            "tags": []
          }
        }
      ]
    }
  ]
}